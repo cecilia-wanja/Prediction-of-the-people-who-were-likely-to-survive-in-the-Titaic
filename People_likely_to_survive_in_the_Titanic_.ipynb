{
  "nbformat": 4,
  "nbformat_minor": 0,
  "metadata": {
    "colab": {
      "name": "People likely to survive in the Titanic .ipynb",
      "provenance": [],
      "collapsed_sections": [],
      "include_colab_link": true
    },
    "kernelspec": {
      "name": "python3",
      "display_name": "Python 3"
    },
    "accelerator": "GPU"
  },
  "cells": [
    {
      "cell_type": "markdown",
      "metadata": {
        "id": "view-in-github",
        "colab_type": "text"
      },
      "source": [
        "<a href=\"https://colab.research.google.com/github/cecilia-wanja/Prediction-of-the-people-who-were-likely-to-survive-in-the-Titanic/blob/master/People_likely_to_survive_in_the_Titanic_.ipynb\" target=\"_parent\"><img src=\"https://colab.research.google.com/assets/colab-badge.svg\" alt=\"Open In Colab\"/></a>"
      ]
    },
    {
      "cell_type": "markdown",
      "metadata": {
        "id": "qkwevgF72PHo",
        "colab_type": "text"
      },
      "source": [
        "##Background Information\n"
      ]
    },
    {
      "cell_type": "markdown",
      "metadata": {
        "id": "aJ0UCLLqz3Mz",
        "colab_type": "text"
      },
      "source": [
        "The sinking of the Titanic is one of the most infamous shipwrecks in history.\n",
        "While there was some element of luck involved in surviving, it seems some groups of people were more likely to survive than others.\n",
        "\n",
        "In this challenge, we ask you to build a predictive model that answers the question: “what sorts of people were more likely to survive?” using passenger data (ie name, age, gender, socio-economic class, etc).\n",
        "\n",
        "We are provided with the following columns:\n",
        "PassengerId - Unique ID of the passenger\n",
        "\n",
        "Pclass - Passenger's class (1st, 2nd, or 3rd)\n",
        "\n",
        "Name - Passenger's name\n",
        "\n",
        "Survived - Survived (1) or died (0)\n",
        "\n",
        "Sex - Passenger's sex\n",
        "\n",
        "Age - Passenger's age\n",
        "\n",
        "SibSp - Number of siblings/spouses aboard the Titanic\n",
        "\n",
        "Parch - Number of parents/children aboard the Titanic\n",
        "\n",
        "Ticket - Ticket number\n",
        "\n",
        "Fare - Fare paid for ticket\n",
        "\n",
        "Cabin - Cabin number\n",
        "\n",
        "Embarked - Where the passenger got on the ship (C - Cherbourg, S - Southampton, Q = Queenstown)\n"
      ]
    },
    {
      "cell_type": "markdown",
      "metadata": {
        "id": "209Tlu7m2pmL",
        "colab_type": "text"
      },
      "source": [
        "## Question"
      ]
    },
    {
      "cell_type": "markdown",
      "metadata": {
        "id": "_5dBD3bS25fA",
        "colab_type": "text"
      },
      "source": [
        "***We will use simple machine learning to address the prediction.In this case, KNearestNeighbors and Naive Bayes Theorem***"
      ]
    },
    {
      "cell_type": "code",
      "metadata": {
        "id": "BBgRL-cJxdnD",
        "colab_type": "code",
        "colab": {}
      },
      "source": [
        "#first off, we will import the necessary libraries we will use in our workbook\n",
        "\n",
        "#pandas for data analysis\n",
        "import pandas as pd\n",
        "\n",
        "#numpy for scientific computing of arrays\n",
        "import numpy as np\n",
        "\n",
        "#a visualization library\n",
        "import matplotlib.pyplot as plt\n",
        "\n"
      ],
      "execution_count": 0,
      "outputs": []
    },
    {
      "cell_type": "code",
      "metadata": {
        "id": "pkfi3kPo9e7S",
        "colab_type": "code",
        "colab": {}
      },
      "source": [
        "#loading the dataset to the notebook\n",
        "df = pd.read_csv('train.csv')\n"
      ],
      "execution_count": 0,
      "outputs": []
    },
    {
      "cell_type": "code",
      "metadata": {
        "id": "fCWQf469-_WP",
        "colab_type": "code",
        "outputId": "b2639ec6-da5d-4eff-f7b2-b6f432d5a269",
        "colab": {
          "base_uri": "https://localhost:8080/",
          "height": 34
        }
      },
      "source": [
        "#comparing the number of rows and columns in the previous datasets as well the newly dataset\n",
        "print('my dataset has:', df.shape)\n",
        "\n"
      ],
      "execution_count": 129,
      "outputs": [
        {
          "output_type": "stream",
          "text": [
            "my dataset has: (891, 12)\n"
          ],
          "name": "stdout"
        }
      ]
    },
    {
      "cell_type": "code",
      "metadata": {
        "id": "eGg8qOcn_k02",
        "colab_type": "code",
        "outputId": "c5b5ab32-489f-416b-e4fd-46a49821ba9a",
        "colab": {
          "base_uri": "https://localhost:8080/",
          "height": 496
        }
      },
      "source": [
        "#we will now preview our new dataset\n",
        "\n",
        "df.head()"
      ],
      "execution_count": 130,
      "outputs": [
        {
          "output_type": "execute_result",
          "data": {
            "text/html": [
              "<div>\n",
              "<style scoped>\n",
              "    .dataframe tbody tr th:only-of-type {\n",
              "        vertical-align: middle;\n",
              "    }\n",
              "\n",
              "    .dataframe tbody tr th {\n",
              "        vertical-align: top;\n",
              "    }\n",
              "\n",
              "    .dataframe thead th {\n",
              "        text-align: right;\n",
              "    }\n",
              "</style>\n",
              "<table border=\"1\" class=\"dataframe\">\n",
              "  <thead>\n",
              "    <tr style=\"text-align: right;\">\n",
              "      <th></th>\n",
              "      <th>PassengerId</th>\n",
              "      <th>Survived</th>\n",
              "      <th>Pclass</th>\n",
              "      <th>Name</th>\n",
              "      <th>Sex</th>\n",
              "      <th>Age</th>\n",
              "      <th>SibSp</th>\n",
              "      <th>Parch</th>\n",
              "      <th>Ticket</th>\n",
              "      <th>Fare</th>\n",
              "      <th>Cabin</th>\n",
              "      <th>Embarked</th>\n",
              "    </tr>\n",
              "  </thead>\n",
              "  <tbody>\n",
              "    <tr>\n",
              "      <th>0</th>\n",
              "      <td>1</td>\n",
              "      <td>0</td>\n",
              "      <td>3</td>\n",
              "      <td>Braund, Mr. Owen Harris</td>\n",
              "      <td>male</td>\n",
              "      <td>22.0</td>\n",
              "      <td>1</td>\n",
              "      <td>0</td>\n",
              "      <td>A/5 21171</td>\n",
              "      <td>7.2500</td>\n",
              "      <td>NaN</td>\n",
              "      <td>S</td>\n",
              "    </tr>\n",
              "    <tr>\n",
              "      <th>1</th>\n",
              "      <td>2</td>\n",
              "      <td>1</td>\n",
              "      <td>1</td>\n",
              "      <td>Cumings, Mrs. John Bradley (Florence Briggs Th...</td>\n",
              "      <td>female</td>\n",
              "      <td>38.0</td>\n",
              "      <td>1</td>\n",
              "      <td>0</td>\n",
              "      <td>PC 17599</td>\n",
              "      <td>71.2833</td>\n",
              "      <td>C85</td>\n",
              "      <td>C</td>\n",
              "    </tr>\n",
              "    <tr>\n",
              "      <th>2</th>\n",
              "      <td>3</td>\n",
              "      <td>1</td>\n",
              "      <td>3</td>\n",
              "      <td>Heikkinen, Miss. Laina</td>\n",
              "      <td>female</td>\n",
              "      <td>26.0</td>\n",
              "      <td>0</td>\n",
              "      <td>0</td>\n",
              "      <td>STON/O2. 3101282</td>\n",
              "      <td>7.9250</td>\n",
              "      <td>NaN</td>\n",
              "      <td>S</td>\n",
              "    </tr>\n",
              "    <tr>\n",
              "      <th>3</th>\n",
              "      <td>4</td>\n",
              "      <td>1</td>\n",
              "      <td>1</td>\n",
              "      <td>Futrelle, Mrs. Jacques Heath (Lily May Peel)</td>\n",
              "      <td>female</td>\n",
              "      <td>35.0</td>\n",
              "      <td>1</td>\n",
              "      <td>0</td>\n",
              "      <td>113803</td>\n",
              "      <td>53.1000</td>\n",
              "      <td>C123</td>\n",
              "      <td>S</td>\n",
              "    </tr>\n",
              "    <tr>\n",
              "      <th>4</th>\n",
              "      <td>5</td>\n",
              "      <td>0</td>\n",
              "      <td>3</td>\n",
              "      <td>Allen, Mr. William Henry</td>\n",
              "      <td>male</td>\n",
              "      <td>35.0</td>\n",
              "      <td>0</td>\n",
              "      <td>0</td>\n",
              "      <td>373450</td>\n",
              "      <td>8.0500</td>\n",
              "      <td>NaN</td>\n",
              "      <td>S</td>\n",
              "    </tr>\n",
              "  </tbody>\n",
              "</table>\n",
              "</div>"
            ],
            "text/plain": [
              "   PassengerId  Survived  Pclass  ...     Fare Cabin  Embarked\n",
              "0            1         0       3  ...   7.2500   NaN         S\n",
              "1            2         1       1  ...  71.2833   C85         C\n",
              "2            3         1       3  ...   7.9250   NaN         S\n",
              "3            4         1       1  ...  53.1000  C123         S\n",
              "4            5         0       3  ...   8.0500   NaN         S\n",
              "\n",
              "[5 rows x 12 columns]"
            ]
          },
          "metadata": {
            "tags": []
          },
          "execution_count": 130
        }
      ]
    },
    {
      "cell_type": "markdown",
      "metadata": {
        "id": "rpFmMRBKAQTQ",
        "colab_type": "text"
      },
      "source": [
        "## Cleaning"
      ]
    },
    {
      "cell_type": "code",
      "metadata": {
        "id": "87ra1CRc_uKv",
        "colab_type": "code",
        "outputId": "892c1c81-8621-4763-f39e-a50dafefa72b",
        "colab": {
          "base_uri": "https://localhost:8080/",
          "height": 238
        }
      },
      "source": [
        "#this process involves a series of activities that will make my dataset fit for analysis\n",
        "\n",
        "#checking the null values in the dataset\n",
        "df.isnull().sum()"
      ],
      "execution_count": 131,
      "outputs": [
        {
          "output_type": "execute_result",
          "data": {
            "text/plain": [
              "PassengerId      0\n",
              "Survived         0\n",
              "Pclass           0\n",
              "Name             0\n",
              "Sex              0\n",
              "Age            177\n",
              "SibSp            0\n",
              "Parch            0\n",
              "Ticket           0\n",
              "Fare             0\n",
              "Cabin          687\n",
              "Embarked         2\n",
              "dtype: int64"
            ]
          },
          "metadata": {
            "tags": []
          },
          "execution_count": 131
        }
      ]
    },
    {
      "cell_type": "code",
      "metadata": {
        "id": "m4NNmwi5A_cN",
        "colab_type": "code",
        "outputId": "4f436e88-bc3f-4aa8-e085-22e17961ff73",
        "colab": {
          "base_uri": "https://localhost:8080/",
          "height": 34
        }
      },
      "source": [
        "df.shape"
      ],
      "execution_count": 132,
      "outputs": [
        {
          "output_type": "execute_result",
          "data": {
            "text/plain": [
              "(891, 12)"
            ]
          },
          "metadata": {
            "tags": []
          },
          "execution_count": 132
        }
      ]
    },
    {
      "cell_type": "code",
      "metadata": {
        "id": "G7FuAXksBHcn",
        "colab_type": "code",
        "outputId": "73a44760-8d3a-4901-f7a8-8f4edd38c758",
        "colab": {
          "base_uri": "https://localhost:8080/",
          "height": 323
        }
      },
      "source": [
        "#the cabin column seems to have the most missing values.\n",
        "#lets call the unique values to get a deeper understanding of the column\n",
        "df.Cabin.unique()"
      ],
      "execution_count": 133,
      "outputs": [
        {
          "output_type": "execute_result",
          "data": {
            "text/plain": [
              "array([nan, 'C85', 'C123', 'E46', 'G6', 'C103', 'D56', 'A6',\n",
              "       'C23 C25 C27', 'B78', 'D33', 'B30', 'C52', 'B28', 'C83', 'F33',\n",
              "       'F G73', 'E31', 'A5', 'D10 D12', 'D26', 'C110', 'B58 B60', 'E101',\n",
              "       'F E69', 'D47', 'B86', 'F2', 'C2', 'E33', 'B19', 'A7', 'C49', 'F4',\n",
              "       'A32', 'B4', 'B80', 'A31', 'D36', 'D15', 'C93', 'C78', 'D35',\n",
              "       'C87', 'B77', 'E67', 'B94', 'C125', 'C99', 'C118', 'D7', 'A19',\n",
              "       'B49', 'D', 'C22 C26', 'C106', 'C65', 'E36', 'C54',\n",
              "       'B57 B59 B63 B66', 'C7', 'E34', 'C32', 'B18', 'C124', 'C91', 'E40',\n",
              "       'T', 'C128', 'D37', 'B35', 'E50', 'C82', 'B96 B98', 'E10', 'E44',\n",
              "       'A34', 'C104', 'C111', 'C92', 'E38', 'D21', 'E12', 'E63', 'A14',\n",
              "       'B37', 'C30', 'D20', 'B79', 'E25', 'D46', 'B73', 'C95', 'B38',\n",
              "       'B39', 'B22', 'C86', 'C70', 'A16', 'C101', 'C68', 'A10', 'E68',\n",
              "       'B41', 'A20', 'D19', 'D50', 'D9', 'A23', 'B50', 'A26', 'D48',\n",
              "       'E58', 'C126', 'B71', 'B51 B53 B55', 'D49', 'B5', 'B20', 'F G63',\n",
              "       'C62 C64', 'E24', 'C90', 'C45', 'E8', 'B101', 'D45', 'C46', 'D30',\n",
              "       'E121', 'D11', 'E77', 'F38', 'B3', 'D6', 'B82 B84', 'D17', 'A36',\n",
              "       'B102', 'B69', 'E49', 'C47', 'D28', 'E17', 'A24', 'C50', 'B42',\n",
              "       'C148'], dtype=object)"
            ]
          },
          "metadata": {
            "tags": []
          },
          "execution_count": 133
        }
      ]
    },
    {
      "cell_type": "code",
      "metadata": {
        "id": "CxNrLtrKBbRv",
        "colab_type": "code",
        "outputId": "4856f718-2430-48c3-d278-429bfe343b52",
        "colab": {
          "base_uri": "https://localhost:8080/",
          "height": 34
        }
      },
      "source": [
        "#the cabin column is a representation of where the passengers slept which may have affected their survival or not.\n",
        "#hence we will retain the cumn and make a few adjustments.\n",
        "df['Class'] = df['Cabin'].str.slice(0,1)\n",
        "df.Class.unique()"
      ],
      "execution_count": 134,
      "outputs": [
        {
          "output_type": "execute_result",
          "data": {
            "text/plain": [
              "array([nan, 'C', 'E', 'G', 'D', 'A', 'B', 'F', 'T'], dtype=object)"
            ]
          },
          "metadata": {
            "tags": []
          },
          "execution_count": 134
        }
      ]
    },
    {
      "cell_type": "code",
      "metadata": {
        "id": "PLoRRacYD3yq",
        "colab_type": "code",
        "colab": {}
      },
      "source": [
        "#dropping the Cabin column since it has been replaced with the Class column I just Created.\n",
        "df.drop('Cabin', axis = 1, inplace = True)"
      ],
      "execution_count": 0,
      "outputs": []
    },
    {
      "cell_type": "code",
      "metadata": {
        "id": "q5HBS9TMEaRx",
        "colab_type": "code",
        "colab": {}
      },
      "source": [
        "#remember that there were missing values in the Class column hence I will classify those as another set of class element and assign the letter N as their class.\n",
        "df['Class'] = df['Class'].fillna('N')"
      ],
      "execution_count": 0,
      "outputs": []
    },
    {
      "cell_type": "code",
      "metadata": {
        "id": "zeM-GW-cE6mn",
        "colab_type": "code",
        "outputId": "0f8b9d4d-d592-421a-f0e0-4460fcdee68a",
        "colab": {
          "base_uri": "https://localhost:8080/",
          "height": 34
        }
      },
      "source": [
        "#confirming the unique values in our new Class column.\n",
        "df.Class.unique()"
      ],
      "execution_count": 137,
      "outputs": [
        {
          "output_type": "execute_result",
          "data": {
            "text/plain": [
              "array(['N', 'C', 'E', 'G', 'D', 'A', 'B', 'F', 'T'], dtype=object)"
            ]
          },
          "metadata": {
            "tags": []
          },
          "execution_count": 137
        }
      ]
    },
    {
      "cell_type": "code",
      "metadata": {
        "colab_type": "code",
        "id": "KDCNIfFSzGRq",
        "colab": {}
      },
      "source": [
        "df['Age'] = df['Age'].fillna(df['Age'].mean(),)"
      ],
      "execution_count": 0,
      "outputs": []
    },
    {
      "cell_type": "code",
      "metadata": {
        "id": "lZDS9UiJIlpj",
        "colab_type": "code",
        "outputId": "9590f89d-bad4-4035-e6f0-b07f95682122",
        "colab": {
          "base_uri": "https://localhost:8080/",
          "height": 238
        }
      },
      "source": [
        "#confirming the number of null values\n",
        "df.isnull().sum()"
      ],
      "execution_count": 139,
      "outputs": [
        {
          "output_type": "execute_result",
          "data": {
            "text/plain": [
              "PassengerId    0\n",
              "Survived       0\n",
              "Pclass         0\n",
              "Name           0\n",
              "Sex            0\n",
              "Age            0\n",
              "SibSp          0\n",
              "Parch          0\n",
              "Ticket         0\n",
              "Fare           0\n",
              "Embarked       2\n",
              "Class          0\n",
              "dtype: int64"
            ]
          },
          "metadata": {
            "tags": []
          },
          "execution_count": 139
        }
      ]
    },
    {
      "cell_type": "code",
      "metadata": {
        "id": "922gOYFOzqAS",
        "colab_type": "code",
        "colab": {}
      },
      "source": [
        "#dealing with embarked column missing values\n",
        "\n",
        "df['Embarked'] = df['Embarked'].fillna('N')"
      ],
      "execution_count": 0,
      "outputs": []
    },
    {
      "cell_type": "code",
      "metadata": {
        "id": "NQuZYz2IJdTm",
        "colab_type": "code",
        "outputId": "19698a85-c397-4015-bbe1-684a6f3aab71",
        "colab": {
          "base_uri": "https://localhost:8080/",
          "height": 34
        }
      },
      "source": [
        "df.Embarked.unique()"
      ],
      "execution_count": 141,
      "outputs": [
        {
          "output_type": "execute_result",
          "data": {
            "text/plain": [
              "array(['S', 'C', 'Q', 'N'], dtype=object)"
            ]
          },
          "metadata": {
            "tags": []
          },
          "execution_count": 141
        }
      ]
    },
    {
      "cell_type": "code",
      "metadata": {
        "id": "xl-B9Qvr4ovc",
        "colab_type": "code",
        "outputId": "3bd2b073-8b02-4660-d0d2-de53219663c6",
        "colab": {
          "base_uri": "https://localhost:8080/",
          "height": 238
        }
      },
      "source": [
        "df.isnull().sum()"
      ],
      "execution_count": 142,
      "outputs": [
        {
          "output_type": "execute_result",
          "data": {
            "text/plain": [
              "PassengerId    0\n",
              "Survived       0\n",
              "Pclass         0\n",
              "Name           0\n",
              "Sex            0\n",
              "Age            0\n",
              "SibSp          0\n",
              "Parch          0\n",
              "Ticket         0\n",
              "Fare           0\n",
              "Embarked       0\n",
              "Class          0\n",
              "dtype: int64"
            ]
          },
          "metadata": {
            "tags": []
          },
          "execution_count": 142
        }
      ]
    },
    {
      "cell_type": "markdown",
      "metadata": {
        "id": "T79iLKb30LoJ",
        "colab_type": "text"
      },
      "source": [
        "***As for the Cabin column and Embarked column missing values, I replaced with N to symbolise the missing values.***\n"
      ]
    },
    {
      "cell_type": "markdown",
      "metadata": {
        "id": "LAswMfEz0ZBK",
        "colab_type": "text"
      },
      "source": [
        "##Exploratory Data Analysis"
      ]
    },
    {
      "cell_type": "code",
      "metadata": {
        "id": "LCbW8sURzSoV",
        "colab_type": "code",
        "outputId": "ee4c6d55-6cbd-461e-9484-c83678c5a008",
        "colab": {
          "base_uri": "https://localhost:8080/",
          "height": 34
        }
      },
      "source": [
        "#Statistical overview of our dataset\n",
        "\n",
        "df.PassengerId.value_counts().sum()"
      ],
      "execution_count": 143,
      "outputs": [
        {
          "output_type": "execute_result",
          "data": {
            "text/plain": [
              "891"
            ]
          },
          "metadata": {
            "tags": []
          },
          "execution_count": 143
        }
      ]
    },
    {
      "cell_type": "markdown",
      "metadata": {
        "id": "ATMi5q0E5Jh8",
        "colab_type": "text"
      },
      "source": [
        "***We will be analysing 891 passenger information in this dataset***"
      ]
    },
    {
      "cell_type": "code",
      "metadata": {
        "id": "FZV85eLA6SGM",
        "colab_type": "code",
        "outputId": "a5d54a6d-f722-4762-d5e6-3e5c696cb71e",
        "colab": {
          "base_uri": "https://localhost:8080/",
          "height": 34
        }
      },
      "source": [
        "df.Survived.unique()"
      ],
      "execution_count": 144,
      "outputs": [
        {
          "output_type": "execute_result",
          "data": {
            "text/plain": [
              "array([0, 1])"
            ]
          },
          "metadata": {
            "tags": []
          },
          "execution_count": 144
        }
      ]
    },
    {
      "cell_type": "code",
      "metadata": {
        "id": "pAeDm20G4Cem",
        "colab_type": "code",
        "outputId": "0ec372aa-7302-46f0-8f71-f6b0f21709e5",
        "colab": {
          "base_uri": "https://localhost:8080/",
          "height": 34
        }
      },
      "source": [
        "#looking at the number of people who survived\n",
        "survived = (df['Survived'] == 1).sum()\n",
        "survived\n",
        "\n"
      ],
      "execution_count": 145,
      "outputs": [
        {
          "output_type": "execute_result",
          "data": {
            "text/plain": [
              "342"
            ]
          },
          "metadata": {
            "tags": []
          },
          "execution_count": 145
        }
      ]
    },
    {
      "cell_type": "markdown",
      "metadata": {
        "id": "nyYH9TGD7BZm",
        "colab_type": "text"
      },
      "source": [
        "***among the 891 passengers in the titanic who were there, only 342 survived.***"
      ]
    },
    {
      "cell_type": "code",
      "metadata": {
        "id": "5IC8uBRW6cJs",
        "colab_type": "code",
        "outputId": "602a565d-e955-4248-bffc-ab362f947ec6",
        "colab": {
          "base_uri": "https://localhost:8080/",
          "height": 286
        }
      },
      "source": [
        "passclass = df.groupby(['Pclass','Survived'])\n",
        "passclass.count()"
      ],
      "execution_count": 146,
      "outputs": [
        {
          "output_type": "execute_result",
          "data": {
            "text/html": [
              "<div>\n",
              "<style scoped>\n",
              "    .dataframe tbody tr th:only-of-type {\n",
              "        vertical-align: middle;\n",
              "    }\n",
              "\n",
              "    .dataframe tbody tr th {\n",
              "        vertical-align: top;\n",
              "    }\n",
              "\n",
              "    .dataframe thead th {\n",
              "        text-align: right;\n",
              "    }\n",
              "</style>\n",
              "<table border=\"1\" class=\"dataframe\">\n",
              "  <thead>\n",
              "    <tr style=\"text-align: right;\">\n",
              "      <th></th>\n",
              "      <th></th>\n",
              "      <th>PassengerId</th>\n",
              "      <th>Name</th>\n",
              "      <th>Sex</th>\n",
              "      <th>Age</th>\n",
              "      <th>SibSp</th>\n",
              "      <th>Parch</th>\n",
              "      <th>Ticket</th>\n",
              "      <th>Fare</th>\n",
              "      <th>Embarked</th>\n",
              "      <th>Class</th>\n",
              "    </tr>\n",
              "    <tr>\n",
              "      <th>Pclass</th>\n",
              "      <th>Survived</th>\n",
              "      <th></th>\n",
              "      <th></th>\n",
              "      <th></th>\n",
              "      <th></th>\n",
              "      <th></th>\n",
              "      <th></th>\n",
              "      <th></th>\n",
              "      <th></th>\n",
              "      <th></th>\n",
              "      <th></th>\n",
              "    </tr>\n",
              "  </thead>\n",
              "  <tbody>\n",
              "    <tr>\n",
              "      <th rowspan=\"2\" valign=\"top\">1</th>\n",
              "      <th>0</th>\n",
              "      <td>80</td>\n",
              "      <td>80</td>\n",
              "      <td>80</td>\n",
              "      <td>80</td>\n",
              "      <td>80</td>\n",
              "      <td>80</td>\n",
              "      <td>80</td>\n",
              "      <td>80</td>\n",
              "      <td>80</td>\n",
              "      <td>80</td>\n",
              "    </tr>\n",
              "    <tr>\n",
              "      <th>1</th>\n",
              "      <td>136</td>\n",
              "      <td>136</td>\n",
              "      <td>136</td>\n",
              "      <td>136</td>\n",
              "      <td>136</td>\n",
              "      <td>136</td>\n",
              "      <td>136</td>\n",
              "      <td>136</td>\n",
              "      <td>136</td>\n",
              "      <td>136</td>\n",
              "    </tr>\n",
              "    <tr>\n",
              "      <th rowspan=\"2\" valign=\"top\">2</th>\n",
              "      <th>0</th>\n",
              "      <td>97</td>\n",
              "      <td>97</td>\n",
              "      <td>97</td>\n",
              "      <td>97</td>\n",
              "      <td>97</td>\n",
              "      <td>97</td>\n",
              "      <td>97</td>\n",
              "      <td>97</td>\n",
              "      <td>97</td>\n",
              "      <td>97</td>\n",
              "    </tr>\n",
              "    <tr>\n",
              "      <th>1</th>\n",
              "      <td>87</td>\n",
              "      <td>87</td>\n",
              "      <td>87</td>\n",
              "      <td>87</td>\n",
              "      <td>87</td>\n",
              "      <td>87</td>\n",
              "      <td>87</td>\n",
              "      <td>87</td>\n",
              "      <td>87</td>\n",
              "      <td>87</td>\n",
              "    </tr>\n",
              "    <tr>\n",
              "      <th rowspan=\"2\" valign=\"top\">3</th>\n",
              "      <th>0</th>\n",
              "      <td>372</td>\n",
              "      <td>372</td>\n",
              "      <td>372</td>\n",
              "      <td>372</td>\n",
              "      <td>372</td>\n",
              "      <td>372</td>\n",
              "      <td>372</td>\n",
              "      <td>372</td>\n",
              "      <td>372</td>\n",
              "      <td>372</td>\n",
              "    </tr>\n",
              "    <tr>\n",
              "      <th>1</th>\n",
              "      <td>119</td>\n",
              "      <td>119</td>\n",
              "      <td>119</td>\n",
              "      <td>119</td>\n",
              "      <td>119</td>\n",
              "      <td>119</td>\n",
              "      <td>119</td>\n",
              "      <td>119</td>\n",
              "      <td>119</td>\n",
              "      <td>119</td>\n",
              "    </tr>\n",
              "  </tbody>\n",
              "</table>\n",
              "</div>"
            ],
            "text/plain": [
              "                 PassengerId  Name  Sex  Age  ...  Ticket  Fare  Embarked  Class\n",
              "Pclass Survived                               ...                               \n",
              "1      0                  80    80   80   80  ...      80    80        80     80\n",
              "       1                 136   136  136  136  ...     136   136       136    136\n",
              "2      0                  97    97   97   97  ...      97    97        97     97\n",
              "       1                  87    87   87   87  ...      87    87        87     87\n",
              "3      0                 372   372  372  372  ...     372   372       372    372\n",
              "       1                 119   119  119  119  ...     119   119       119    119\n",
              "\n",
              "[6 rows x 10 columns]"
            ]
          },
          "metadata": {
            "tags": []
          },
          "execution_count": 146
        }
      ]
    },
    {
      "cell_type": "code",
      "metadata": {
        "id": "GU6STywpxtmO",
        "colab_type": "code",
        "outputId": "3da22bb2-e678-4c3c-a4f0-0da6a81998da",
        "colab": {
          "base_uri": "https://localhost:8080/",
          "height": 930
        }
      },
      "source": [
        "#importing the library we will use\n",
        "import seaborn as sns\n",
        "\n",
        "\n",
        "ax = plt.subplots(figsize = (15,15))\n",
        "\n",
        "sns.countplot(y = 'Survived', hue = 'Pclass', data = df)\n",
        "\n",
        "plt.title('Passenger class of the survived and non survivors')\n",
        "\n",
        "plt.tight_layout"
      ],
      "execution_count": 147,
      "outputs": [
        {
          "output_type": "execute_result",
          "data": {
            "text/plain": [
              "<function matplotlib.pyplot.tight_layout>"
            ]
          },
          "metadata": {
            "tags": []
          },
          "execution_count": 147
        },
        {
          "output_type": "display_data",
          "data": {
            "image/png": "[encoded data removed]",
            "text/plain": [
              "<Figure size 1080x1080 with 1 Axes>"
            ]
          },
          "metadata": {
            "tags": []
          }
        }
      ]
    },
    {
      "cell_type": "markdown",
      "metadata": {
        "id": "G5F4Rv3k9WHb",
        "colab_type": "text"
      },
      "source": [
        "***The number of people who survived are represented by the number 1 whereas those who did not survive are represented by the number 0.***\n",
        "\n",
        "***The ones who survived in 1st class are 136 as compared to the ones who die...80.***\n",
        "\n",
        "***In 2nd class, the ones who survived are less than the ones who died.***\n",
        "\n",
        "***In 3rd class the ones who died are more than those who did survive.***\n",
        "\n",
        "***this could mean a couple of things:***\n",
        "\n",
        "**that the 1st class passengers were given a first priority**\n",
        "\n",
        "**that their rooms were close to the life boats used to save the passengers.**\n",
        "\n",
        "**that the 2nd and the 3rd class passengers did not have lifeboats near their room areas.**"
      ]
    },
    {
      "cell_type": "code",
      "metadata": {
        "id": "BTb0D-oVIwZ0",
        "colab_type": "code",
        "outputId": "de387da0-131f-47f4-90d1-0f56e41230c7",
        "colab": {
          "base_uri": "https://localhost:8080/",
          "height": 34
        }
      },
      "source": [
        "df.Sex.unique()"
      ],
      "execution_count": 148,
      "outputs": [
        {
          "output_type": "execute_result",
          "data": {
            "text/plain": [
              "array(['male', 'female'], dtype=object)"
            ]
          },
          "metadata": {
            "tags": []
          },
          "execution_count": 148
        }
      ]
    },
    {
      "cell_type": "code",
      "metadata": {
        "id": "g8VoPwHb7k0L",
        "colab_type": "code",
        "outputId": "8aa0f38e-66a8-46f4-e793-9184e28a9dcc",
        "colab": {
          "base_uri": "https://localhost:8080/",
          "height": 238
        }
      },
      "source": [
        "female = df[df['Sex'] == 'female']\n",
        "female.count()"
      ],
      "execution_count": 149,
      "outputs": [
        {
          "output_type": "execute_result",
          "data": {
            "text/plain": [
              "PassengerId    314\n",
              "Survived       314\n",
              "Pclass         314\n",
              "Name           314\n",
              "Sex            314\n",
              "Age            314\n",
              "SibSp          314\n",
              "Parch          314\n",
              "Ticket         314\n",
              "Fare           314\n",
              "Embarked       314\n",
              "Class          314\n",
              "dtype: int64"
            ]
          },
          "metadata": {
            "tags": []
          },
          "execution_count": 149
        }
      ]
    },
    {
      "cell_type": "code",
      "metadata": {
        "id": "pdRuIlLbCW4F",
        "colab_type": "code",
        "outputId": "0fba920a-b013-4077-a784-8e5eaf4ff496",
        "colab": {
          "base_uri": "https://localhost:8080/",
          "height": 238
        }
      },
      "source": [
        "male = df[df['Sex'] == 'male']\n",
        "male.count()"
      ],
      "execution_count": 150,
      "outputs": [
        {
          "output_type": "execute_result",
          "data": {
            "text/plain": [
              "PassengerId    577\n",
              "Survived       577\n",
              "Pclass         577\n",
              "Name           577\n",
              "Sex            577\n",
              "Age            577\n",
              "SibSp          577\n",
              "Parch          577\n",
              "Ticket         577\n",
              "Fare           577\n",
              "Embarked       577\n",
              "Class          577\n",
              "dtype: int64"
            ]
          },
          "metadata": {
            "tags": []
          },
          "execution_count": 150
        }
      ]
    },
    {
      "cell_type": "code",
      "metadata": {
        "id": "vVHlHQhjpbWa",
        "colab_type": "code",
        "outputId": "1c90219f-015a-49c8-8854-c5f9d01a9599",
        "colab": {
          "base_uri": "https://localhost:8080/",
          "height": 930
        }
      },
      "source": [
        "#importing the library we will use\n",
        "import seaborn as sns\n",
        "\n",
        "\n",
        "ax = plt.subplots(figsize = (15,15))\n",
        "\n",
        "sns.countplot(y = 'Survived', hue = 'Sex', data = df)\n",
        "\n",
        "plt.title('Sex of the survived and non survivors')\n",
        "\n",
        "plt.tight_layout"
      ],
      "execution_count": 151,
      "outputs": [
        {
          "output_type": "execute_result",
          "data": {
            "text/plain": [
              "<function matplotlib.pyplot.tight_layout>"
            ]
          },
          "metadata": {
            "tags": []
          },
          "execution_count": 151
        },
        {
          "output_type": "display_data",
          "data": {
            "image/png": "[encoded data removed]",
            "text/plain": [
              "<Figure size 1080x1080 with 1 Axes>"
            ]
          },
          "metadata": {
            "tags": []
          }
        }
      ]
    },
    {
      "cell_type": "markdown",
      "metadata": {
        "id": "gxIXN8OEzmzv",
        "colab_type": "text"
      },
      "source": [
        "***This shows that the number of female who survived are more than the number of male.***\n",
        "***we can conclude that female were given the first priotity when boarding the life boats***"
      ]
    },
    {
      "cell_type": "code",
      "metadata": {
        "id": "of27vMQGwxVj",
        "colab_type": "code",
        "outputId": "d2cfe66c-796a-4858-9eac-82eb0bf5b54b",
        "colab": {
          "base_uri": "https://localhost:8080/",
          "height": 68
        }
      },
      "source": [
        "#calling the columns again\n",
        "\n",
        "df.columns"
      ],
      "execution_count": 152,
      "outputs": [
        {
          "output_type": "execute_result",
          "data": {
            "text/plain": [
              "Index(['PassengerId', 'Survived', 'Pclass', 'Name', 'Sex', 'Age', 'SibSp',\n",
              "       'Parch', 'Ticket', 'Fare', 'Embarked', 'Class'],\n",
              "      dtype='object')"
            ]
          },
          "metadata": {
            "tags": []
          },
          "execution_count": 152
        }
      ]
    },
    {
      "cell_type": "code",
      "metadata": {
        "id": "xuLEt3P_yq-A",
        "colab_type": "code",
        "outputId": "dc45508d-4ef2-4914-a1c0-1176f1581d72",
        "colab": {
          "base_uri": "https://localhost:8080/",
          "height": 638
        }
      },
      "source": [
        "#importing the library we will use\n",
        "import seaborn as sns\n",
        "\n",
        "\n",
        "ax = plt.subplots(figsize = (10,10))\n",
        "\n",
        "sns.countplot(x = 'Survived', hue = 'Parch', data = df)\n",
        "\n",
        "plt.title('passenger who were parents : survived and non survivors')\n",
        "\n",
        "plt.tight_layout"
      ],
      "execution_count": 153,
      "outputs": [
        {
          "output_type": "execute_result",
          "data": {
            "text/plain": [
              "<function matplotlib.pyplot.tight_layout>"
            ]
          },
          "metadata": {
            "tags": []
          },
          "execution_count": 153
        },
        {
          "output_type": "display_data",
          "data": {
            "image/png": "[encoded data removed]",
            "text/plain": [
              "<Figure size 720x720 with 1 Axes>"
            ]
          },
          "metadata": {
            "tags": []
          }
        }
      ]
    },
    {
      "cell_type": "markdown",
      "metadata": {
        "id": "tLy3Ekav1m38",
        "colab_type": "text"
      },
      "source": [
        "***this shows that the more kids an individual has then the chances of survival increased.***"
      ]
    },
    {
      "cell_type": "code",
      "metadata": {
        "id": "l35SWhIa0xw3",
        "colab_type": "code",
        "outputId": "b5597583-c51a-4629-8d1b-20d2de49fd13",
        "colab": {
          "base_uri": "https://localhost:8080/",
          "height": 638
        }
      },
      "source": [
        "#importing the library we will use\n",
        "import seaborn as sns\n",
        "\n",
        "\n",
        "ax = plt.subplots(figsize = (10,10))\n",
        "\n",
        "sns.countplot(x = 'Survived', hue = 'SibSp', data = df)\n",
        "\n",
        "plt.title('passenger who has siblings : survived and non survivors')\n",
        "\n",
        "plt.tight_layout"
      ],
      "execution_count": 154,
      "outputs": [
        {
          "output_type": "execute_result",
          "data": {
            "text/plain": [
              "<function matplotlib.pyplot.tight_layout>"
            ]
          },
          "metadata": {
            "tags": []
          },
          "execution_count": 154
        },
        {
          "output_type": "display_data",
          "data": {
            "image/png": "[encoded data removed]",
            "text/plain": [
              "<Figure size 720x720 with 1 Axes>"
            ]
          },
          "metadata": {
            "tags": []
          }
        }
      ]
    },
    {
      "cell_type": "markdown",
      "metadata": {
        "id": "WW4pdKCG2KUs",
        "colab_type": "text"
      },
      "source": [
        "***This shows that the more the number of siblings an individual had, then the chances of survival increased.***"
      ]
    },
    {
      "cell_type": "code",
      "metadata": {
        "id": "65zCqxA12CW9",
        "colab_type": "code",
        "outputId": "e6231ddd-6cd4-404f-8874-a3cca18d4ff4",
        "colab": {
          "base_uri": "https://localhost:8080/",
          "height": 638
        }
      },
      "source": [
        "#importing the library we will use\n",
        "import seaborn as sns\n",
        "\n",
        "\n",
        "ax = plt.subplots(figsize = (10,10))\n",
        "\n",
        "sns.countplot(x = 'Survived', hue = 'Embarked', data = df)\n",
        "\n",
        "plt.title('location passengers emarked on and how it affected survival and death')\n",
        "\n",
        "plt.tight_layout"
      ],
      "execution_count": 155,
      "outputs": [
        {
          "output_type": "execute_result",
          "data": {
            "text/plain": [
              "<function matplotlib.pyplot.tight_layout>"
            ]
          },
          "metadata": {
            "tags": []
          },
          "execution_count": 155
        },
        {
          "output_type": "display_data",
          "data": {
            "image/png": "[encoded data removed]",
            "text/plain": [
              "<Figure size 720x720 with 1 Axes>"
            ]
          },
          "metadata": {
            "tags": []
          }
        }
      ]
    },
    {
      "cell_type": "markdown",
      "metadata": {
        "id": "S7x3dvt-34Kb",
        "colab_type": "text"
      },
      "source": [
        "***C - Cherbourg, S - Southampton, Q = Queenstown, N = not known***\n",
        "\n",
        "***In order of arrival, the passengers boarded Titanic in Sothampton,Cherbourg then Queenstown.***\n",
        "\n",
        "***This means that the first people who boarded the titanic died the most as compared to the rest.***\n",
        "\n",
        "***The location passengers embarked greatly affected their survival rate.***"
      ]
    },
    {
      "cell_type": "code",
      "metadata": {
        "id": "hBsH8zdJ3Mx1",
        "colab_type": "code",
        "outputId": "c450c0c4-e866-44db-ee4a-1b32ca56eece",
        "colab": {
          "base_uri": "https://localhost:8080/",
          "height": 638
        }
      },
      "source": [
        "#importing the library we will use\n",
        "import seaborn as sns\n",
        "\n",
        "\n",
        "ax = plt.subplots(figsize = (10,10))\n",
        "\n",
        "sns.countplot(x = 'Survived', hue = 'Class', data = df)\n",
        "\n",
        "plt.title('the cabin passengers were on and how it affected survival and death')\n",
        "\n",
        "plt.tight_layout"
      ],
      "execution_count": 156,
      "outputs": [
        {
          "output_type": "execute_result",
          "data": {
            "text/plain": [
              "<function matplotlib.pyplot.tight_layout>"
            ]
          },
          "metadata": {
            "tags": []
          },
          "execution_count": 156
        },
        {
          "output_type": "display_data",
          "data": {
            "image/png": "[encoded data removed]",
            "text/plain": [
              "<Figure size 720x720 with 1 Axes>"
            ]
          },
          "metadata": {
            "tags": []
          }
        }
      ]
    },
    {
      "cell_type": "markdown",
      "metadata": {
        "id": "oZ3lXL-v6PEq",
        "colab_type": "text"
      },
      "source": [
        "***The number of people who were not assigned cabin numbers were the most, but we'll concentrate on the ones who were.***\n",
        "\n",
        "***the cabin members in c died the most as compared to the rest.But as you compare the number of survivors of cabin c, and their corresponding deceased, the people who survived are more than the people who died.***\n",
        "\n",
        "***this column does not show clarity because of the number of'not known' that are in the column.But we will go ahead and still use it.***"
      ]
    },
    {
      "cell_type": "code",
      "metadata": {
        "id": "31nUId-dw_vL",
        "colab_type": "code",
        "outputId": "581d74eb-ffbb-4e71-f69b-951518bf822f",
        "colab": {
          "base_uri": "https://localhost:8080/",
          "height": 1000
        }
      },
      "source": [
        "#Crossplots distribution\n",
        "plt.figure(figsize=(14, 30))\n",
        "sns.pairplot(df, diag_kind='kde');\n",
        "plt.show()"
      ],
      "execution_count": 157,
      "outputs": [
        {
          "output_type": "display_data",
          "data": {
            "text/plain": [
              "<Figure size 1008x2160 with 0 Axes>"
            ]
          },
          "metadata": {
            "tags": []
          }
        },
        {
          "output_type": "display_data",
          "data": {
            "image/png": "[encoded data removed]",
            "text/plain": [
              "<Figure size 1260x1260 with 56 Axes>"
            ]
          },
          "metadata": {
            "tags": []
          }
        }
      ]
    },
    {
      "cell_type": "markdown",
      "metadata": {
        "id": "Zjra3KAD-oNg",
        "colab_type": "text"
      },
      "source": [
        "***The above plot shows the relationship between the variables***"
      ]
    },
    {
      "cell_type": "markdown",
      "metadata": {
        "id": "x7sJ6KdF_BEn",
        "colab_type": "text"
      },
      "source": [
        "## Modelling"
      ]
    },
    {
      "cell_type": "markdown",
      "metadata": {
        "id": "MgQ2-NofBUWa",
        "colab_type": "text"
      },
      "source": [
        "***We'll be using KNN as well as Naive Bayes classification Models***"
      ]
    },
    {
      "cell_type": "markdown",
      "metadata": {
        "id": "8rgmGVb8Cf0W",
        "colab_type": "text"
      },
      "source": [
        "**KNN classifier**"
      ]
    },
    {
      "cell_type": "code",
      "metadata": {
        "id": "zElT_ZmZMqYA",
        "colab_type": "code",
        "outputId": "a1c29031-e2ac-454e-ae82-237ab05b295d",
        "colab": {
          "base_uri": "https://localhost:8080/",
          "height": 238
        }
      },
      "source": [
        "#first off we will label encode the categorical data.\n",
        "df.dtypes"
      ],
      "execution_count": 158,
      "outputs": [
        {
          "output_type": "execute_result",
          "data": {
            "text/plain": [
              "PassengerId      int64\n",
              "Survived         int64\n",
              "Pclass           int64\n",
              "Name            object\n",
              "Sex             object\n",
              "Age            float64\n",
              "SibSp            int64\n",
              "Parch            int64\n",
              "Ticket          object\n",
              "Fare           float64\n",
              "Embarked        object\n",
              "Class           object\n",
              "dtype: object"
            ]
          },
          "metadata": {
            "tags": []
          },
          "execution_count": 158
        }
      ]
    },
    {
      "cell_type": "code",
      "metadata": {
        "id": "nScJ5TSYaIhY",
        "colab_type": "code",
        "outputId": "da8d7932-c636-41e2-aec3-215d293a9be4",
        "colab": {
          "base_uri": "https://localhost:8080/",
          "height": 204
        }
      },
      "source": [
        "#dropping the unnecessary columns in the dataset\n",
        "df = df.drop(['Name','Ticket'],axis = 1)\n",
        "df.head()"
      ],
      "execution_count": 159,
      "outputs": [
        {
          "output_type": "execute_result",
          "data": {
            "text/html": [
              "<div>\n",
              "<style scoped>\n",
              "    .dataframe tbody tr th:only-of-type {\n",
              "        vertical-align: middle;\n",
              "    }\n",
              "\n",
              "    .dataframe tbody tr th {\n",
              "        vertical-align: top;\n",
              "    }\n",
              "\n",
              "    .dataframe thead th {\n",
              "        text-align: right;\n",
              "    }\n",
              "</style>\n",
              "<table border=\"1\" class=\"dataframe\">\n",
              "  <thead>\n",
              "    <tr style=\"text-align: right;\">\n",
              "      <th></th>\n",
              "      <th>PassengerId</th>\n",
              "      <th>Survived</th>\n",
              "      <th>Pclass</th>\n",
              "      <th>Sex</th>\n",
              "      <th>Age</th>\n",
              "      <th>SibSp</th>\n",
              "      <th>Parch</th>\n",
              "      <th>Fare</th>\n",
              "      <th>Embarked</th>\n",
              "      <th>Class</th>\n",
              "    </tr>\n",
              "  </thead>\n",
              "  <tbody>\n",
              "    <tr>\n",
              "      <th>0</th>\n",
              "      <td>1</td>\n",
              "      <td>0</td>\n",
              "      <td>3</td>\n",
              "      <td>male</td>\n",
              "      <td>22.0</td>\n",
              "      <td>1</td>\n",
              "      <td>0</td>\n",
              "      <td>7.2500</td>\n",
              "      <td>S</td>\n",
              "      <td>N</td>\n",
              "    </tr>\n",
              "    <tr>\n",
              "      <th>1</th>\n",
              "      <td>2</td>\n",
              "      <td>1</td>\n",
              "      <td>1</td>\n",
              "      <td>female</td>\n",
              "      <td>38.0</td>\n",
              "      <td>1</td>\n",
              "      <td>0</td>\n",
              "      <td>71.2833</td>\n",
              "      <td>C</td>\n",
              "      <td>C</td>\n",
              "    </tr>\n",
              "    <tr>\n",
              "      <th>2</th>\n",
              "      <td>3</td>\n",
              "      <td>1</td>\n",
              "      <td>3</td>\n",
              "      <td>female</td>\n",
              "      <td>26.0</td>\n",
              "      <td>0</td>\n",
              "      <td>0</td>\n",
              "      <td>7.9250</td>\n",
              "      <td>S</td>\n",
              "      <td>N</td>\n",
              "    </tr>\n",
              "    <tr>\n",
              "      <th>3</th>\n",
              "      <td>4</td>\n",
              "      <td>1</td>\n",
              "      <td>1</td>\n",
              "      <td>female</td>\n",
              "      <td>35.0</td>\n",
              "      <td>1</td>\n",
              "      <td>0</td>\n",
              "      <td>53.1000</td>\n",
              "      <td>S</td>\n",
              "      <td>C</td>\n",
              "    </tr>\n",
              "    <tr>\n",
              "      <th>4</th>\n",
              "      <td>5</td>\n",
              "      <td>0</td>\n",
              "      <td>3</td>\n",
              "      <td>male</td>\n",
              "      <td>35.0</td>\n",
              "      <td>0</td>\n",
              "      <td>0</td>\n",
              "      <td>8.0500</td>\n",
              "      <td>S</td>\n",
              "      <td>N</td>\n",
              "    </tr>\n",
              "  </tbody>\n",
              "</table>\n",
              "</div>"
            ],
            "text/plain": [
              "   PassengerId  Survived  Pclass     Sex  ...  Parch     Fare  Embarked  Class\n",
              "0            1         0       3    male  ...      0   7.2500         S      N\n",
              "1            2         1       1  female  ...      0  71.2833         C      C\n",
              "2            3         1       3  female  ...      0   7.9250         S      N\n",
              "3            4         1       1  female  ...      0  53.1000         S      C\n",
              "4            5         0       3    male  ...      0   8.0500         S      N\n",
              "\n",
              "[5 rows x 10 columns]"
            ]
          },
          "metadata": {
            "tags": []
          },
          "execution_count": 159
        }
      ]
    },
    {
      "cell_type": "code",
      "metadata": {
        "id": "2qeXOMBZZ_yu",
        "colab_type": "code",
        "colab": {}
      },
      "source": [
        ""
      ],
      "execution_count": 0,
      "outputs": []
    },
    {
      "cell_type": "code",
      "metadata": {
        "id": "usVGVGtYQFJa",
        "colab_type": "code",
        "outputId": "6f164cbe-fe59-4043-cd21-5b6216a0d178",
        "colab": {
          "base_uri": "https://localhost:8080/",
          "height": 224
        }
      },
      "source": [
        "#defining the columns I need\n",
        "s = ['Sex','Embarked','Class']\n",
        "\n",
        "#changing the columns defined from categrorical to numerical\n",
        "dummy = pd.get_dummies(df[s])\n",
        "dummy.head()\n",
        "\n",
        "#joing the dummied variables with the original dataset\n",
        "df = pd.concat([df, dummy],axis = 1)\n",
        "df.head()"
      ],
      "execution_count": 160,
      "outputs": [
        {
          "output_type": "execute_result",
          "data": {
            "text/html": [
              "<div>\n",
              "<style scoped>\n",
              "    .dataframe tbody tr th:only-of-type {\n",
              "        vertical-align: middle;\n",
              "    }\n",
              "\n",
              "    .dataframe tbody tr th {\n",
              "        vertical-align: top;\n",
              "    }\n",
              "\n",
              "    .dataframe thead th {\n",
              "        text-align: right;\n",
              "    }\n",
              "</style>\n",
              "<table border=\"1\" class=\"dataframe\">\n",
              "  <thead>\n",
              "    <tr style=\"text-align: right;\">\n",
              "      <th></th>\n",
              "      <th>PassengerId</th>\n",
              "      <th>Survived</th>\n",
              "      <th>Pclass</th>\n",
              "      <th>Sex</th>\n",
              "      <th>Age</th>\n",
              "      <th>SibSp</th>\n",
              "      <th>Parch</th>\n",
              "      <th>Fare</th>\n",
              "      <th>Embarked</th>\n",
              "      <th>Class</th>\n",
              "      <th>Sex_female</th>\n",
              "      <th>Sex_male</th>\n",
              "      <th>Embarked_C</th>\n",
              "      <th>Embarked_N</th>\n",
              "      <th>Embarked_Q</th>\n",
              "      <th>Embarked_S</th>\n",
              "      <th>Class_A</th>\n",
              "      <th>Class_B</th>\n",
              "      <th>Class_C</th>\n",
              "      <th>Class_D</th>\n",
              "      <th>Class_E</th>\n",
              "      <th>Class_F</th>\n",
              "      <th>Class_G</th>\n",
              "      <th>Class_N</th>\n",
              "      <th>Class_T</th>\n",
              "    </tr>\n",
              "  </thead>\n",
              "  <tbody>\n",
              "    <tr>\n",
              "      <th>0</th>\n",
              "      <td>1</td>\n",
              "      <td>0</td>\n",
              "      <td>3</td>\n",
              "      <td>male</td>\n",
              "      <td>22.0</td>\n",
              "      <td>1</td>\n",
              "      <td>0</td>\n",
              "      <td>7.2500</td>\n",
              "      <td>S</td>\n",
              "      <td>N</td>\n",
              "      <td>0</td>\n",
              "      <td>1</td>\n",
              "      <td>0</td>\n",
              "      <td>0</td>\n",
              "      <td>0</td>\n",
              "      <td>1</td>\n",
              "      <td>0</td>\n",
              "      <td>0</td>\n",
              "      <td>0</td>\n",
              "      <td>0</td>\n",
              "      <td>0</td>\n",
              "      <td>0</td>\n",
              "      <td>0</td>\n",
              "      <td>1</td>\n",
              "      <td>0</td>\n",
              "    </tr>\n",
              "    <tr>\n",
              "      <th>1</th>\n",
              "      <td>2</td>\n",
              "      <td>1</td>\n",
              "      <td>1</td>\n",
              "      <td>female</td>\n",
              "      <td>38.0</td>\n",
              "      <td>1</td>\n",
              "      <td>0</td>\n",
              "      <td>71.2833</td>\n",
              "      <td>C</td>\n",
              "      <td>C</td>\n",
              "      <td>1</td>\n",
              "      <td>0</td>\n",
              "      <td>1</td>\n",
              "      <td>0</td>\n",
              "      <td>0</td>\n",
              "      <td>0</td>\n",
              "      <td>0</td>\n",
              "      <td>0</td>\n",
              "      <td>1</td>\n",
              "      <td>0</td>\n",
              "      <td>0</td>\n",
              "      <td>0</td>\n",
              "      <td>0</td>\n",
              "      <td>0</td>\n",
              "      <td>0</td>\n",
              "    </tr>\n",
              "    <tr>\n",
              "      <th>2</th>\n",
              "      <td>3</td>\n",
              "      <td>1</td>\n",
              "      <td>3</td>\n",
              "      <td>female</td>\n",
              "      <td>26.0</td>\n",
              "      <td>0</td>\n",
              "      <td>0</td>\n",
              "      <td>7.9250</td>\n",
              "      <td>S</td>\n",
              "      <td>N</td>\n",
              "      <td>1</td>\n",
              "      <td>0</td>\n",
              "      <td>0</td>\n",
              "      <td>0</td>\n",
              "      <td>0</td>\n",
              "      <td>1</td>\n",
              "      <td>0</td>\n",
              "      <td>0</td>\n",
              "      <td>0</td>\n",
              "      <td>0</td>\n",
              "      <td>0</td>\n",
              "      <td>0</td>\n",
              "      <td>0</td>\n",
              "      <td>1</td>\n",
              "      <td>0</td>\n",
              "    </tr>\n",
              "    <tr>\n",
              "      <th>3</th>\n",
              "      <td>4</td>\n",
              "      <td>1</td>\n",
              "      <td>1</td>\n",
              "      <td>female</td>\n",
              "      <td>35.0</td>\n",
              "      <td>1</td>\n",
              "      <td>0</td>\n",
              "      <td>53.1000</td>\n",
              "      <td>S</td>\n",
              "      <td>C</td>\n",
              "      <td>1</td>\n",
              "      <td>0</td>\n",
              "      <td>0</td>\n",
              "      <td>0</td>\n",
              "      <td>0</td>\n",
              "      <td>1</td>\n",
              "      <td>0</td>\n",
              "      <td>0</td>\n",
              "      <td>1</td>\n",
              "      <td>0</td>\n",
              "      <td>0</td>\n",
              "      <td>0</td>\n",
              "      <td>0</td>\n",
              "      <td>0</td>\n",
              "      <td>0</td>\n",
              "    </tr>\n",
              "    <tr>\n",
              "      <th>4</th>\n",
              "      <td>5</td>\n",
              "      <td>0</td>\n",
              "      <td>3</td>\n",
              "      <td>male</td>\n",
              "      <td>35.0</td>\n",
              "      <td>0</td>\n",
              "      <td>0</td>\n",
              "      <td>8.0500</td>\n",
              "      <td>S</td>\n",
              "      <td>N</td>\n",
              "      <td>0</td>\n",
              "      <td>1</td>\n",
              "      <td>0</td>\n",
              "      <td>0</td>\n",
              "      <td>0</td>\n",
              "      <td>1</td>\n",
              "      <td>0</td>\n",
              "      <td>0</td>\n",
              "      <td>0</td>\n",
              "      <td>0</td>\n",
              "      <td>0</td>\n",
              "      <td>0</td>\n",
              "      <td>0</td>\n",
              "      <td>1</td>\n",
              "      <td>0</td>\n",
              "    </tr>\n",
              "  </tbody>\n",
              "</table>\n",
              "</div>"
            ],
            "text/plain": [
              "   PassengerId  Survived  Pclass     Sex  ...  Class_F  Class_G  Class_N  Class_T\n",
              "0            1         0       3    male  ...        0        0        1        0\n",
              "1            2         1       1  female  ...        0        0        0        0\n",
              "2            3         1       3  female  ...        0        0        1        0\n",
              "3            4         1       1  female  ...        0        0        0        0\n",
              "4            5         0       3    male  ...        0        0        1        0\n",
              "\n",
              "[5 rows x 25 columns]"
            ]
          },
          "metadata": {
            "tags": []
          },
          "execution_count": 160
        }
      ]
    },
    {
      "cell_type": "code",
      "metadata": {
        "id": "Vos9xacOdv_9",
        "colab_type": "code",
        "outputId": "e5687586-c4f2-42b7-b081-455622af65ea",
        "colab": {
          "base_uri": "https://localhost:8080/",
          "height": 224
        }
      },
      "source": [
        "#deleting the previous columns that were not numerical\n",
        "df = df.drop(['Sex', 'Embarked','Class'],axis = 1)\n",
        "df.head()"
      ],
      "execution_count": 161,
      "outputs": [
        {
          "output_type": "execute_result",
          "data": {
            "text/html": [
              "<div>\n",
              "<style scoped>\n",
              "    .dataframe tbody tr th:only-of-type {\n",
              "        vertical-align: middle;\n",
              "    }\n",
              "\n",
              "    .dataframe tbody tr th {\n",
              "        vertical-align: top;\n",
              "    }\n",
              "\n",
              "    .dataframe thead th {\n",
              "        text-align: right;\n",
              "    }\n",
              "</style>\n",
              "<table border=\"1\" class=\"dataframe\">\n",
              "  <thead>\n",
              "    <tr style=\"text-align: right;\">\n",
              "      <th></th>\n",
              "      <th>PassengerId</th>\n",
              "      <th>Survived</th>\n",
              "      <th>Pclass</th>\n",
              "      <th>Age</th>\n",
              "      <th>SibSp</th>\n",
              "      <th>Parch</th>\n",
              "      <th>Fare</th>\n",
              "      <th>Sex_female</th>\n",
              "      <th>Sex_male</th>\n",
              "      <th>Embarked_C</th>\n",
              "      <th>Embarked_N</th>\n",
              "      <th>Embarked_Q</th>\n",
              "      <th>Embarked_S</th>\n",
              "      <th>Class_A</th>\n",
              "      <th>Class_B</th>\n",
              "      <th>Class_C</th>\n",
              "      <th>Class_D</th>\n",
              "      <th>Class_E</th>\n",
              "      <th>Class_F</th>\n",
              "      <th>Class_G</th>\n",
              "      <th>Class_N</th>\n",
              "      <th>Class_T</th>\n",
              "    </tr>\n",
              "  </thead>\n",
              "  <tbody>\n",
              "    <tr>\n",
              "      <th>0</th>\n",
              "      <td>1</td>\n",
              "      <td>0</td>\n",
              "      <td>3</td>\n",
              "      <td>22.0</td>\n",
              "      <td>1</td>\n",
              "      <td>0</td>\n",
              "      <td>7.2500</td>\n",
              "      <td>0</td>\n",
              "      <td>1</td>\n",
              "      <td>0</td>\n",
              "      <td>0</td>\n",
              "      <td>0</td>\n",
              "      <td>1</td>\n",
              "      <td>0</td>\n",
              "      <td>0</td>\n",
              "      <td>0</td>\n",
              "      <td>0</td>\n",
              "      <td>0</td>\n",
              "      <td>0</td>\n",
              "      <td>0</td>\n",
              "      <td>1</td>\n",
              "      <td>0</td>\n",
              "    </tr>\n",
              "    <tr>\n",
              "      <th>1</th>\n",
              "      <td>2</td>\n",
              "      <td>1</td>\n",
              "      <td>1</td>\n",
              "      <td>38.0</td>\n",
              "      <td>1</td>\n",
              "      <td>0</td>\n",
              "      <td>71.2833</td>\n",
              "      <td>1</td>\n",
              "      <td>0</td>\n",
              "      <td>1</td>\n",
              "      <td>0</td>\n",
              "      <td>0</td>\n",
              "      <td>0</td>\n",
              "      <td>0</td>\n",
              "      <td>0</td>\n",
              "      <td>1</td>\n",
              "      <td>0</td>\n",
              "      <td>0</td>\n",
              "      <td>0</td>\n",
              "      <td>0</td>\n",
              "      <td>0</td>\n",
              "      <td>0</td>\n",
              "    </tr>\n",
              "    <tr>\n",
              "      <th>2</th>\n",
              "      <td>3</td>\n",
              "      <td>1</td>\n",
              "      <td>3</td>\n",
              "      <td>26.0</td>\n",
              "      <td>0</td>\n",
              "      <td>0</td>\n",
              "      <td>7.9250</td>\n",
              "      <td>1</td>\n",
              "      <td>0</td>\n",
              "      <td>0</td>\n",
              "      <td>0</td>\n",
              "      <td>0</td>\n",
              "      <td>1</td>\n",
              "      <td>0</td>\n",
              "      <td>0</td>\n",
              "      <td>0</td>\n",
              "      <td>0</td>\n",
              "      <td>0</td>\n",
              "      <td>0</td>\n",
              "      <td>0</td>\n",
              "      <td>1</td>\n",
              "      <td>0</td>\n",
              "    </tr>\n",
              "    <tr>\n",
              "      <th>3</th>\n",
              "      <td>4</td>\n",
              "      <td>1</td>\n",
              "      <td>1</td>\n",
              "      <td>35.0</td>\n",
              "      <td>1</td>\n",
              "      <td>0</td>\n",
              "      <td>53.1000</td>\n",
              "      <td>1</td>\n",
              "      <td>0</td>\n",
              "      <td>0</td>\n",
              "      <td>0</td>\n",
              "      <td>0</td>\n",
              "      <td>1</td>\n",
              "      <td>0</td>\n",
              "      <td>0</td>\n",
              "      <td>1</td>\n",
              "      <td>0</td>\n",
              "      <td>0</td>\n",
              "      <td>0</td>\n",
              "      <td>0</td>\n",
              "      <td>0</td>\n",
              "      <td>0</td>\n",
              "    </tr>\n",
              "    <tr>\n",
              "      <th>4</th>\n",
              "      <td>5</td>\n",
              "      <td>0</td>\n",
              "      <td>3</td>\n",
              "      <td>35.0</td>\n",
              "      <td>0</td>\n",
              "      <td>0</td>\n",
              "      <td>8.0500</td>\n",
              "      <td>0</td>\n",
              "      <td>1</td>\n",
              "      <td>0</td>\n",
              "      <td>0</td>\n",
              "      <td>0</td>\n",
              "      <td>1</td>\n",
              "      <td>0</td>\n",
              "      <td>0</td>\n",
              "      <td>0</td>\n",
              "      <td>0</td>\n",
              "      <td>0</td>\n",
              "      <td>0</td>\n",
              "      <td>0</td>\n",
              "      <td>1</td>\n",
              "      <td>0</td>\n",
              "    </tr>\n",
              "  </tbody>\n",
              "</table>\n",
              "</div>"
            ],
            "text/plain": [
              "   PassengerId  Survived  Pclass   Age  ...  Class_F  Class_G  Class_N  Class_T\n",
              "0            1         0       3  22.0  ...        0        0        1        0\n",
              "1            2         1       1  38.0  ...        0        0        0        0\n",
              "2            3         1       3  26.0  ...        0        0        1        0\n",
              "3            4         1       1  35.0  ...        0        0        0        0\n",
              "4            5         0       3  35.0  ...        0        0        1        0\n",
              "\n",
              "[5 rows x 22 columns]"
            ]
          },
          "metadata": {
            "tags": []
          },
          "execution_count": 161
        }
      ]
    },
    {
      "cell_type": "code",
      "metadata": {
        "id": "Lcbz4O-_eQ8W",
        "colab_type": "code",
        "colab": {}
      },
      "source": [
        "#we will then define our dependent variable x, and our independent variables y.\n",
        "\n",
        "x = df.drop('Survived', axis = 1)\n",
        "y = df[['Survived']]"
      ],
      "execution_count": 0,
      "outputs": []
    },
    {
      "cell_type": "code",
      "metadata": {
        "id": "gi1e-i_jbybK",
        "colab_type": "code",
        "outputId": "4f358699-2b6b-49f6-ab33-a61ec267e440",
        "colab": {
          "base_uri": "https://localhost:8080/",
          "height": 224
        }
      },
      "source": [
        "pd.DataFrame(x).head()"
      ],
      "execution_count": 163,
      "outputs": [
        {
          "output_type": "execute_result",
          "data": {
            "text/html": [
              "<div>\n",
              "<style scoped>\n",
              "    .dataframe tbody tr th:only-of-type {\n",
              "        vertical-align: middle;\n",
              "    }\n",
              "\n",
              "    .dataframe tbody tr th {\n",
              "        vertical-align: top;\n",
              "    }\n",
              "\n",
              "    .dataframe thead th {\n",
              "        text-align: right;\n",
              "    }\n",
              "</style>\n",
              "<table border=\"1\" class=\"dataframe\">\n",
              "  <thead>\n",
              "    <tr style=\"text-align: right;\">\n",
              "      <th></th>\n",
              "      <th>PassengerId</th>\n",
              "      <th>Pclass</th>\n",
              "      <th>Age</th>\n",
              "      <th>SibSp</th>\n",
              "      <th>Parch</th>\n",
              "      <th>Fare</th>\n",
              "      <th>Sex_female</th>\n",
              "      <th>Sex_male</th>\n",
              "      <th>Embarked_C</th>\n",
              "      <th>Embarked_N</th>\n",
              "      <th>Embarked_Q</th>\n",
              "      <th>Embarked_S</th>\n",
              "      <th>Class_A</th>\n",
              "      <th>Class_B</th>\n",
              "      <th>Class_C</th>\n",
              "      <th>Class_D</th>\n",
              "      <th>Class_E</th>\n",
              "      <th>Class_F</th>\n",
              "      <th>Class_G</th>\n",
              "      <th>Class_N</th>\n",
              "      <th>Class_T</th>\n",
              "    </tr>\n",
              "  </thead>\n",
              "  <tbody>\n",
              "    <tr>\n",
              "      <th>0</th>\n",
              "      <td>1</td>\n",
              "      <td>3</td>\n",
              "      <td>22.0</td>\n",
              "      <td>1</td>\n",
              "      <td>0</td>\n",
              "      <td>7.2500</td>\n",
              "      <td>0</td>\n",
              "      <td>1</td>\n",
              "      <td>0</td>\n",
              "      <td>0</td>\n",
              "      <td>0</td>\n",
              "      <td>1</td>\n",
              "      <td>0</td>\n",
              "      <td>0</td>\n",
              "      <td>0</td>\n",
              "      <td>0</td>\n",
              "      <td>0</td>\n",
              "      <td>0</td>\n",
              "      <td>0</td>\n",
              "      <td>1</td>\n",
              "      <td>0</td>\n",
              "    </tr>\n",
              "    <tr>\n",
              "      <th>1</th>\n",
              "      <td>2</td>\n",
              "      <td>1</td>\n",
              "      <td>38.0</td>\n",
              "      <td>1</td>\n",
              "      <td>0</td>\n",
              "      <td>71.2833</td>\n",
              "      <td>1</td>\n",
              "      <td>0</td>\n",
              "      <td>1</td>\n",
              "      <td>0</td>\n",
              "      <td>0</td>\n",
              "      <td>0</td>\n",
              "      <td>0</td>\n",
              "      <td>0</td>\n",
              "      <td>1</td>\n",
              "      <td>0</td>\n",
              "      <td>0</td>\n",
              "      <td>0</td>\n",
              "      <td>0</td>\n",
              "      <td>0</td>\n",
              "      <td>0</td>\n",
              "    </tr>\n",
              "    <tr>\n",
              "      <th>2</th>\n",
              "      <td>3</td>\n",
              "      <td>3</td>\n",
              "      <td>26.0</td>\n",
              "      <td>0</td>\n",
              "      <td>0</td>\n",
              "      <td>7.9250</td>\n",
              "      <td>1</td>\n",
              "      <td>0</td>\n",
              "      <td>0</td>\n",
              "      <td>0</td>\n",
              "      <td>0</td>\n",
              "      <td>1</td>\n",
              "      <td>0</td>\n",
              "      <td>0</td>\n",
              "      <td>0</td>\n",
              "      <td>0</td>\n",
              "      <td>0</td>\n",
              "      <td>0</td>\n",
              "      <td>0</td>\n",
              "      <td>1</td>\n",
              "      <td>0</td>\n",
              "    </tr>\n",
              "    <tr>\n",
              "      <th>3</th>\n",
              "      <td>4</td>\n",
              "      <td>1</td>\n",
              "      <td>35.0</td>\n",
              "      <td>1</td>\n",
              "      <td>0</td>\n",
              "      <td>53.1000</td>\n",
              "      <td>1</td>\n",
              "      <td>0</td>\n",
              "      <td>0</td>\n",
              "      <td>0</td>\n",
              "      <td>0</td>\n",
              "      <td>1</td>\n",
              "      <td>0</td>\n",
              "      <td>0</td>\n",
              "      <td>1</td>\n",
              "      <td>0</td>\n",
              "      <td>0</td>\n",
              "      <td>0</td>\n",
              "      <td>0</td>\n",
              "      <td>0</td>\n",
              "      <td>0</td>\n",
              "    </tr>\n",
              "    <tr>\n",
              "      <th>4</th>\n",
              "      <td>5</td>\n",
              "      <td>3</td>\n",
              "      <td>35.0</td>\n",
              "      <td>0</td>\n",
              "      <td>0</td>\n",
              "      <td>8.0500</td>\n",
              "      <td>0</td>\n",
              "      <td>1</td>\n",
              "      <td>0</td>\n",
              "      <td>0</td>\n",
              "      <td>0</td>\n",
              "      <td>1</td>\n",
              "      <td>0</td>\n",
              "      <td>0</td>\n",
              "      <td>0</td>\n",
              "      <td>0</td>\n",
              "      <td>0</td>\n",
              "      <td>0</td>\n",
              "      <td>0</td>\n",
              "      <td>1</td>\n",
              "      <td>0</td>\n",
              "    </tr>\n",
              "  </tbody>\n",
              "</table>\n",
              "</div>"
            ],
            "text/plain": [
              "   PassengerId  Pclass   Age  SibSp  ...  Class_F  Class_G  Class_N  Class_T\n",
              "0            1       3  22.0      1  ...        0        0        1        0\n",
              "1            2       1  38.0      1  ...        0        0        0        0\n",
              "2            3       3  26.0      0  ...        0        0        1        0\n",
              "3            4       1  35.0      1  ...        0        0        0        0\n",
              "4            5       3  35.0      0  ...        0        0        1        0\n",
              "\n",
              "[5 rows x 21 columns]"
            ]
          },
          "metadata": {
            "tags": []
          },
          "execution_count": 163
        }
      ]
    },
    {
      "cell_type": "code",
      "metadata": {
        "id": "Bt25cs7zECSI",
        "colab_type": "code",
        "colab": {}
      },
      "source": [
        "#to avoid overfitting, we divide the dataset into training and test set\n",
        "from sklearn.model_selection import train_test_split\n",
        "\n",
        "x_train, x_test, y_train, y_test = train_test_split(x,y,test_size = 0.15)"
      ],
      "execution_count": 0,
      "outputs": []
    },
    {
      "cell_type": "code",
      "metadata": {
        "id": "BT0_X0mqGpN4",
        "colab_type": "code",
        "outputId": "3b6fb961-af46-4c00-94b9-9ba0419ee0dc",
        "colab": {
          "base_uri": "https://localhost:8080/",
          "height": 34
        }
      },
      "source": [
        "#for KNN we have to standardize for all the features to be uniformly distributed.\n",
        "from sklearn.preprocessing import StandardScaler\n",
        "\n",
        "scaler = StandardScaler()\n",
        "\n",
        "scaler.fit(x_train)"
      ],
      "execution_count": 165,
      "outputs": [
        {
          "output_type": "execute_result",
          "data": {
            "text/plain": [
              "StandardScaler(copy=True, with_mean=True, with_std=True)"
            ]
          },
          "metadata": {
            "tags": []
          },
          "execution_count": 165
        }
      ]
    },
    {
      "cell_type": "code",
      "metadata": {
        "id": "kg_gdWYXHHZw",
        "colab_type": "code",
        "colab": {}
      },
      "source": [
        "#standardizing my x test and x train\n",
        "\n",
        "x_train = scaler.transform(x_train)\n",
        "\n",
        "x_test = scaler.transform(x_test)"
      ],
      "execution_count": 0,
      "outputs": []
    },
    {
      "cell_type": "code",
      "metadata": {
        "id": "vWgt-jCpLlmY",
        "colab_type": "code",
        "outputId": "cd1614d8-49e0-490b-b1bd-146b4508fd7f",
        "colab": {
          "base_uri": "https://localhost:8080/",
          "height": 122
        }
      },
      "source": [
        "# importing the necessary libraries for our Knn model\n",
        "from sklearn.neighbors import KNeighborsClassifier\n",
        "\n",
        "#our n values below will be the number of k\n",
        "#the digit 5 is mostly used for the KNN algorithm hence we will input here as well.\n",
        "classifier = KNeighborsClassifier()\n",
        "\n",
        "classifier.fit(x_train, y_train)"
      ],
      "execution_count": 167,
      "outputs": [
        {
          "output_type": "stream",
          "text": [
            "/usr/local/lib/python3.6/dist-packages/ipykernel_launcher.py:7: DataConversionWarning: A column-vector y was passed when a 1d array was expected. Please change the shape of y to (n_samples, ), for example using ravel().\n",
            "  import sys\n"
          ],
          "name": "stderr"
        },
        {
          "output_type": "execute_result",
          "data": {
            "text/plain": [
              "KNeighborsClassifier(algorithm='auto', leaf_size=30, metric='minkowski',\n",
              "                     metric_params=None, n_jobs=None, n_neighbors=5, p=2,\n",
              "                     weights='uniform')"
            ]
          },
          "metadata": {
            "tags": []
          },
          "execution_count": 167
        }
      ]
    },
    {
      "cell_type": "code",
      "metadata": {
        "id": "Y5ziQ-SxMWXG",
        "colab_type": "code",
        "colab": {}
      },
      "source": [
        "#making the prediction\n",
        "y_pred = classifier.predict(x_test)\n"
      ],
      "execution_count": 0,
      "outputs": []
    },
    {
      "cell_type": "code",
      "metadata": {
        "id": "sSq8BtG4YTwp",
        "colab_type": "code",
        "outputId": "eeff9248-f6e0-4fb2-b9db-67bfb8b5006b",
        "colab": {
          "base_uri": "https://localhost:8080/",
          "height": 51
        }
      },
      "source": [
        "#evaluation using the confusion matrix\n",
        "from sklearn.metrics import confusion_matrix\n",
        "print(confusion_matrix(y_test,y_pred))"
      ],
      "execution_count": 169,
      "outputs": [
        {
          "output_type": "stream",
          "text": [
            "[[87  8]\n",
            " [16 23]]\n"
          ],
          "name": "stdout"
        }
      ]
    },
    {
      "cell_type": "code",
      "metadata": {
        "id": "vU8xVkkgYtc_",
        "colab_type": "code",
        "outputId": "36f71b9c-d599-4346-fa87-29f8cd55bcec",
        "colab": {
          "base_uri": "https://localhost:8080/",
          "height": 170
        }
      },
      "source": [
        "#evaluation using classification matrix\n",
        "from sklearn.metrics import classification_report\n",
        "\n",
        "print(classification_report(y_test, y_pred))"
      ],
      "execution_count": 170,
      "outputs": [
        {
          "output_type": "stream",
          "text": [
            "              precision    recall  f1-score   support\n",
            "\n",
            "           0       0.84      0.92      0.88        95\n",
            "           1       0.74      0.59      0.66        39\n",
            "\n",
            "    accuracy                           0.82       134\n",
            "   macro avg       0.79      0.75      0.77       134\n",
            "weighted avg       0.81      0.82      0.81       134\n",
            "\n"
          ],
          "name": "stdout"
        }
      ]
    },
    {
      "cell_type": "code",
      "metadata": {
        "id": "sNqVg_AB98L6",
        "colab_type": "code",
        "colab": {
          "base_uri": "https://localhost:8080/",
          "height": 34
        },
        "outputId": "f65be2c2-66f4-4076-c93c-6ee33e3a5f6d"
      },
      "source": [
        "print(metrics.accuracy_score(y_test,y_pred))"
      ],
      "execution_count": 171,
      "outputs": [
        {
          "output_type": "stream",
          "text": [
            "0.8208955223880597\n"
          ],
          "name": "stdout"
        }
      ]
    },
    {
      "cell_type": "markdown",
      "metadata": {
        "id": "l85qjdTW-Z-J",
        "colab_type": "text"
      },
      "source": [
        "***With knn we achieved an accuracy of 82% which is a fairly good accuracy score of our model.***"
      ]
    },
    {
      "cell_type": "markdown",
      "metadata": {
        "id": "XephAjS1iGxd",
        "colab_type": "text"
      },
      "source": [
        "**Logistic Regression**"
      ]
    },
    {
      "cell_type": "code",
      "metadata": {
        "id": "K4SHM93Ih9Me",
        "colab_type": "code",
        "outputId": "2772b82a-bf78-4f5a-c2ad-cf3ae2ec509b",
        "colab": {
          "base_uri": "https://localhost:8080/",
          "height": 258
        }
      },
      "source": [
        "#I used logistic because we are dealing with binary data as well\n",
        "\n",
        "#importing the necessary libraries\n",
        "\n",
        "from sklearn.linear_model import LogisticRegression\n",
        "\n",
        "#defining the model\n",
        "log = LogisticRegression()\n",
        "\n",
        "#fitting the model into our training set\n",
        "log.fit(x_train, y_train)\n",
        "\n",
        "#prediction using the model\n",
        "y_pred = log.predict(x_test)\n",
        "\n",
        "print(classification_report(y_test,y_pred))"
      ],
      "execution_count": 172,
      "outputs": [
        {
          "output_type": "stream",
          "text": [
            "              precision    recall  f1-score   support\n",
            "\n",
            "           0       0.88      0.88      0.88        95\n",
            "           1       0.72      0.72      0.72        39\n",
            "\n",
            "    accuracy                           0.84       134\n",
            "   macro avg       0.80      0.80      0.80       134\n",
            "weighted avg       0.84      0.84      0.84       134\n",
            "\n"
          ],
          "name": "stdout"
        },
        {
          "output_type": "stream",
          "text": [
            "/usr/local/lib/python3.6/dist-packages/sklearn/linear_model/logistic.py:432: FutureWarning: Default solver will be changed to 'lbfgs' in 0.22. Specify a solver to silence this warning.\n",
            "  FutureWarning)\n",
            "/usr/local/lib/python3.6/dist-packages/sklearn/utils/validation.py:724: DataConversionWarning: A column-vector y was passed when a 1d array was expected. Please change the shape of y to (n_samples, ), for example using ravel().\n",
            "  y = column_or_1d(y, warn=True)\n"
          ],
          "name": "stderr"
        }
      ]
    },
    {
      "cell_type": "markdown",
      "metadata": {
        "id": "wuSd0_bq9MEq",
        "colab_type": "text"
      },
      "source": [
        "***We recorded an accuracy level of 77% with Logistic regression which is not the best due tothe imbalance of our dataset.***"
      ]
    },
    {
      "cell_type": "markdown",
      "metadata": {
        "id": "OvpoQZwyZPAe",
        "colab_type": "text"
      },
      "source": [
        "**Naive Bayes**"
      ]
    },
    {
      "cell_type": "code",
      "metadata": {
        "id": "a0cJLu82ZW2n",
        "colab_type": "code",
        "outputId": "96be3d82-bc3c-4c6d-dd15-d17061f66bc0",
        "colab": {
          "base_uri": "https://localhost:8080/",
          "height": 408
        }
      },
      "source": [
        "df.var()"
      ],
      "execution_count": 173,
      "outputs": [
        {
          "output_type": "execute_result",
          "data": {
            "text/plain": [
              "PassengerId    66231.000000\n",
              "Survived           0.236772\n",
              "Pclass             0.699015\n",
              "Age              169.052400\n",
              "SibSp              1.216043\n",
              "Parch              0.649728\n",
              "Fare            2469.436846\n",
              "Sex_female         0.228475\n",
              "Sex_male           0.228475\n",
              "Embarked_C         0.153172\n",
              "Embarked_N         0.002242\n",
              "Embarked_Q         0.079040\n",
              "Embarked_S         0.200593\n",
              "Class_A            0.016570\n",
              "Class_B            0.050023\n",
              "Class_C            0.061902\n",
              "Class_D            0.035705\n",
              "Class_E            0.034664\n",
              "Class_F            0.014394\n",
              "Class_G            0.004474\n",
              "Class_N            0.176734\n",
              "Class_T            0.001122\n",
              "dtype: float64"
            ]
          },
          "metadata": {
            "tags": []
          },
          "execution_count": 173
        }
      ]
    },
    {
      "cell_type": "code",
      "metadata": {
        "id": "hAXahZlnbRq1",
        "colab_type": "code",
        "colab": {}
      },
      "source": [
        "#importing the different types of Naive Byes models\n",
        "from sklearn.naive_bayes import GaussianNB,MultinomialNB, BernoulliNB\n",
        "\n",
        "#defining the three models of naive bayes that we are going to use.\n",
        "gau = GaussianNB()\n",
        "bern = BernoulliNB()\n",
        "\n"
      ],
      "execution_count": 0,
      "outputs": []
    },
    {
      "cell_type": "code",
      "metadata": {
        "id": "FAHKRtpbmsiD",
        "colab_type": "code",
        "colab": {}
      },
      "source": [
        "#dividing our dataset into training and test set\n",
        "\n",
        "from sklearn.model_selection import train_test_split\n",
        "x_train, x_test, y_train, y_test = train_test_split(x,y,test_size = 0.2)"
      ],
      "execution_count": 0,
      "outputs": []
    },
    {
      "cell_type": "code",
      "metadata": {
        "id": "PJtC9f4jmC4X",
        "colab_type": "code",
        "outputId": "25b1eb09-1ef0-42fa-cccc-7812cda39e30",
        "colab": {
          "base_uri": "https://localhost:8080/",
          "height": 122
        }
      },
      "source": [
        "#training using the models above\n",
        "gau.fit(x_train, y_train)\n",
        "#multi.fit(x_train, y_train)\n",
        "bern.fit(x_train, y_train)"
      ],
      "execution_count": 176,
      "outputs": [
        {
          "output_type": "stream",
          "text": [
            "/usr/local/lib/python3.6/dist-packages/sklearn/utils/validation.py:724: DataConversionWarning: A column-vector y was passed when a 1d array was expected. Please change the shape of y to (n_samples, ), for example using ravel().\n",
            "  y = column_or_1d(y, warn=True)\n",
            "/usr/local/lib/python3.6/dist-packages/sklearn/utils/validation.py:724: DataConversionWarning: A column-vector y was passed when a 1d array was expected. Please change the shape of y to (n_samples, ), for example using ravel().\n",
            "  y = column_or_1d(y, warn=True)\n"
          ],
          "name": "stderr"
        },
        {
          "output_type": "execute_result",
          "data": {
            "text/plain": [
              "BernoulliNB(alpha=1.0, binarize=0.0, class_prior=None, fit_prior=True)"
            ]
          },
          "metadata": {
            "tags": []
          },
          "execution_count": 176
        }
      ]
    },
    {
      "cell_type": "code",
      "metadata": {
        "id": "tuvfR2abmXXN",
        "colab_type": "code",
        "colab": {}
      },
      "source": [
        "#predicting the outcome\n",
        "y_pred1 = gau.predict(x_test)\n",
        "\n",
        "y_pred3 = bern.predict(x_test)"
      ],
      "execution_count": 0,
      "outputs": []
    },
    {
      "cell_type": "code",
      "metadata": {
        "id": "ywZ_QPPcpGzQ",
        "colab_type": "code",
        "outputId": "35fc33a9-6b47-4e92-ddac-51db97bdd137",
        "colab": {
          "base_uri": "https://localhost:8080/",
          "height": 459
        }
      },
      "source": [
        "#evaluating the model\n",
        "\n",
        "#importing the necessary libraries\n",
        "from sklearn import metrics\n",
        "\n",
        "#model accuracy\n",
        "print('Accuracy of Gaussian:', metrics.accuracy_score(y_test,y_pred1)*100)\n",
        "print('\\n')\n",
        "\n",
        "print('Accuracy of Bernoulli:',metrics.accuracy_score(y_test,y_pred3)*100)\n",
        "print('\\n')\n",
        "\n",
        "#classification report of each\n",
        "print('Classification report of Gaussian:',)\n",
        "print(classification_report(y_test,y_pred1))\n",
        "\n",
        "\n",
        "#print('Classification report of Multinomial:', classification_report(y_test,y_pred2))\n",
        "print('Classification report of Bernoulli:',)\n",
        "print(classification_report(y_test,y_pred3))"
      ],
      "execution_count": 178,
      "outputs": [
        {
          "output_type": "stream",
          "text": [
            "Accuracy of Gaussian: 70.94972067039106\n",
            "\n",
            "\n",
            "Accuracy of Bernoulli: 81.00558659217877\n",
            "\n",
            "\n",
            "Classification report of Gaussian:\n",
            "              precision    recall  f1-score   support\n",
            "\n",
            "           0       0.71      0.87      0.79       109\n",
            "           1       0.70      0.46      0.55        70\n",
            "\n",
            "    accuracy                           0.71       179\n",
            "   macro avg       0.70      0.66      0.67       179\n",
            "weighted avg       0.71      0.71      0.69       179\n",
            "\n",
            "Classification report of Bernoulli:\n",
            "              precision    recall  f1-score   support\n",
            "\n",
            "           0       0.86      0.83      0.84       109\n",
            "           1       0.74      0.79      0.76        70\n",
            "\n",
            "    accuracy                           0.81       179\n",
            "   macro avg       0.80      0.81      0.80       179\n",
            "weighted avg       0.81      0.81      0.81       179\n",
            "\n"
          ],
          "name": "stdout"
        }
      ]
    },
    {
      "cell_type": "markdown",
      "metadata": {
        "id": "QzsQC_2M7XZm",
        "colab_type": "text"
      },
      "source": [
        "***Recommendation and Conclusion***\n",
        "\n",
        "Having used the Gaussian and the Bernoulli naive bayes models, the Gaussian performed better than the Bernoulli.\n",
        "Taking a look at the accuracy score, where Bernoulli attained 79% whereas Gaussian attained 80%.\n",
        "The precision of the Gaussian is better than the Benoulli. \n",
        "We recorded survivors precision to be 0.85 while that of non survivprs was 0.74.\n",
        "In Bernoulli the survivors precision was 0.83 while of the non survivors was 0.72.\n",
        "\n",
        "This means to shoow that Gussian records a better precision than that of Bernoulli."
      ]
    },
    {
      "cell_type": "code",
      "metadata": {
        "id": "a7ajnjyGxTVR",
        "colab_type": "code",
        "colab": {}
      },
      "source": [
        ""
      ],
      "execution_count": 0,
      "outputs": []
    }
  ]
}