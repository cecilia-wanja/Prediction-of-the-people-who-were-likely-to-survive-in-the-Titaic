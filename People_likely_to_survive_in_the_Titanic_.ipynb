{
  "nbformat": 4,
  "nbformat_minor": 0,
  "metadata": {
    "colab": {
      "name": "People likely to survive in the Titanic .ipynb",
      "provenance": [],
      "collapsed_sections": [],
      "include_colab_link": true
    },
    "kernelspec": {
      "name": "python3",
      "display_name": "Python 3"
    },
    "accelerator": "GPU"
  },
  "cells": [
    {
      "cell_type": "markdown",
      "metadata": {
        "id": "view-in-github",
        "colab_type": "text"
      },
      "source": [
        "<a href=\"https://colab.research.google.com/github/cecilia-wanja/Prediction-of-the-people-who-were-likely-to-survive-in-the-Titanic/blob/master/People_likely_to_survive_in_the_Titanic_.ipynb\" target=\"_parent\"><img src=\"https://colab.research.google.com/assets/colab-badge.svg\" alt=\"Open In Colab\"/></a>"
      ]
    },
    {
      "cell_type": "markdown",
      "metadata": {
        "id": "qkwevgF72PHo",
        "colab_type": "text"
      },
      "source": [
        "##Background Information\n"
      ]
    },
    {
      "cell_type": "markdown",
      "metadata": {
        "id": "aJ0UCLLqz3Mz",
        "colab_type": "text"
      },
      "source": [
        "The sinking of the Titanic is one of the most infamous shipwrecks in history.\n",
        "While there was some element of luck involved in surviving, it seems some groups of people were more likely to survive than others.\n",
        "\n",
        "In this challenge, we ask you to build a predictive model that answers the question: “what sorts of people were more likely to survive?” using passenger data (ie name, age, gender, socio-economic class, etc).\n",
        "\n",
        "We are provided with the following columns:\n",
        "PassengerId - Unique ID of the passenger\n",
        "\n",
        "Pclass - Passenger's class (1st, 2nd, or 3rd)\n",
        "\n",
        "Name - Passenger's name\n",
        "\n",
        "Survived - Survived (1) or died (0)\n",
        "\n",
        "Sex - Passenger's sex\n",
        "\n",
        "Age - Passenger's age\n",
        "\n",
        "SibSp - Number of siblings/spouses aboard the Titanic\n",
        "\n",
        "Parch - Number of parents/children aboard the Titanic\n",
        "\n",
        "Ticket - Ticket number\n",
        "\n",
        "Fare - Fare paid for ticket\n",
        "\n",
        "Cabin - Cabin number\n",
        "\n",
        "Embarked - Where the passenger got on the ship (C - Cherbourg, S - Southampton, Q = Queenstown)\n"
      ]
    },
    {
      "cell_type": "markdown",
      "metadata": {
        "id": "209Tlu7m2pmL",
        "colab_type": "text"
      },
      "source": [
        "## Question"
      ]
    },
    {
      "cell_type": "markdown",
      "metadata": {
        "id": "_5dBD3bS25fA",
        "colab_type": "text"
      },
      "source": [
        "***We will use simple machine learning to address the prediction.In this case, KNearestNeighbors and Naive Bayes Theorem***"
      ]
    },
    {
      "cell_type": "code",
      "metadata": {
        "id": "BBgRL-cJxdnD",
        "colab_type": "code",
        "colab": {}
      },
      "source": [
        "#first off, we will import the necessary libraries we will use in our workbook\n",
        "\n",
        "#pandas for data analysis\n",
        "import pandas as pd\n",
        "\n",
        "#numpy for scientific computing of arrays\n",
        "import numpy as np\n",
        "\n",
        "#a visualization library\n",
        "import matplotlib.pyplot as plt\n",
        "\n"
      ],
      "execution_count": 0,
      "outputs": []
    },
    {
      "cell_type": "code",
      "metadata": {
        "id": "pkfi3kPo9e7S",
        "colab_type": "code",
        "colab": {}
      },
      "source": [
        "#loading the dataset to the notebook\n",
        "df = pd.read_csv('train.csv')\n"
      ],
      "execution_count": 0,
      "outputs": []
    },
    {
      "cell_type": "code",
      "metadata": {
        "id": "fCWQf469-_WP",
        "colab_type": "code",
        "outputId": "98c5f79b-1de0-4bda-e59d-156b41dea9f5",
        "colab": {
          "base_uri": "https://localhost:8080/",
          "height": 34
        }
      },
      "source": [
        "#comparing the number of rows and columns in the previous datasets as well the newly dataset\n",
        "print('my dataset has:', df.shape)\n",
        "\n"
      ],
      "execution_count": 108,
      "outputs": [
        {
          "output_type": "stream",
          "text": [
            "my dataset has: (891, 12)\n"
          ],
          "name": "stdout"
        }
      ]
    },
    {
      "cell_type": "code",
      "metadata": {
        "id": "eGg8qOcn_k02",
        "colab_type": "code",
        "outputId": "36347d2f-4947-4d38-8ed0-8d1082360a43",
        "colab": {
          "base_uri": "https://localhost:8080/",
          "height": 484
        }
      },
      "source": [
        "#we will now preview our new dataset\n",
        "\n",
        "df.head()"
      ],
      "execution_count": 109,
      "outputs": [
        {
          "output_type": "execute_result",
          "data": {
            "text/html": [
              "<div>\n",
              "<style scoped>\n",
              "    .dataframe tbody tr th:only-of-type {\n",
              "        vertical-align: middle;\n",
              "    }\n",
              "\n",
              "    .dataframe tbody tr th {\n",
              "        vertical-align: top;\n",
              "    }\n",
              "\n",
              "    .dataframe thead th {\n",
              "        text-align: right;\n",
              "    }\n",
              "</style>\n",
              "<table border=\"1\" class=\"dataframe\">\n",
              "  <thead>\n",
              "    <tr style=\"text-align: right;\">\n",
              "      <th></th>\n",
              "      <th>PassengerId</th>\n",
              "      <th>Survived</th>\n",
              "      <th>Pclass</th>\n",
              "      <th>Name</th>\n",
              "      <th>Sex</th>\n",
              "      <th>Age</th>\n",
              "      <th>SibSp</th>\n",
              "      <th>Parch</th>\n",
              "      <th>Ticket</th>\n",
              "      <th>Fare</th>\n",
              "      <th>Cabin</th>\n",
              "      <th>Embarked</th>\n",
              "    </tr>\n",
              "  </thead>\n",
              "  <tbody>\n",
              "    <tr>\n",
              "      <th>0</th>\n",
              "      <td>1</td>\n",
              "      <td>0</td>\n",
              "      <td>3</td>\n",
              "      <td>Braund, Mr. Owen Harris</td>\n",
              "      <td>male</td>\n",
              "      <td>22.0</td>\n",
              "      <td>1</td>\n",
              "      <td>0</td>\n",
              "      <td>A/5 21171</td>\n",
              "      <td>7.2500</td>\n",
              "      <td>NaN</td>\n",
              "      <td>S</td>\n",
              "    </tr>\n",
              "    <tr>\n",
              "      <th>1</th>\n",
              "      <td>2</td>\n",
              "      <td>1</td>\n",
              "      <td>1</td>\n",
              "      <td>Cumings, Mrs. John Bradley (Florence Briggs Th...</td>\n",
              "      <td>female</td>\n",
              "      <td>38.0</td>\n",
              "      <td>1</td>\n",
              "      <td>0</td>\n",
              "      <td>PC 17599</td>\n",
              "      <td>71.2833</td>\n",
              "      <td>C85</td>\n",
              "      <td>C</td>\n",
              "    </tr>\n",
              "    <tr>\n",
              "      <th>2</th>\n",
              "      <td>3</td>\n",
              "      <td>1</td>\n",
              "      <td>3</td>\n",
              "      <td>Heikkinen, Miss. Laina</td>\n",
              "      <td>female</td>\n",
              "      <td>26.0</td>\n",
              "      <td>0</td>\n",
              "      <td>0</td>\n",
              "      <td>STON/O2. 3101282</td>\n",
              "      <td>7.9250</td>\n",
              "      <td>NaN</td>\n",
              "      <td>S</td>\n",
              "    </tr>\n",
              "    <tr>\n",
              "      <th>3</th>\n",
              "      <td>4</td>\n",
              "      <td>1</td>\n",
              "      <td>1</td>\n",
              "      <td>Futrelle, Mrs. Jacques Heath (Lily May Peel)</td>\n",
              "      <td>female</td>\n",
              "      <td>35.0</td>\n",
              "      <td>1</td>\n",
              "      <td>0</td>\n",
              "      <td>113803</td>\n",
              "      <td>53.1000</td>\n",
              "      <td>C123</td>\n",
              "      <td>S</td>\n",
              "    </tr>\n",
              "    <tr>\n",
              "      <th>4</th>\n",
              "      <td>5</td>\n",
              "      <td>0</td>\n",
              "      <td>3</td>\n",
              "      <td>Allen, Mr. William Henry</td>\n",
              "      <td>male</td>\n",
              "      <td>35.0</td>\n",
              "      <td>0</td>\n",
              "      <td>0</td>\n",
              "      <td>373450</td>\n",
              "      <td>8.0500</td>\n",
              "      <td>NaN</td>\n",
              "      <td>S</td>\n",
              "    </tr>\n",
              "  </tbody>\n",
              "</table>\n",
              "</div>"
            ],
            "text/plain": [
              "   PassengerId  Survived  Pclass  ...     Fare Cabin  Embarked\n",
              "0            1         0       3  ...   7.2500   NaN         S\n",
              "1            2         1       1  ...  71.2833   C85         C\n",
              "2            3         1       3  ...   7.9250   NaN         S\n",
              "3            4         1       1  ...  53.1000  C123         S\n",
              "4            5         0       3  ...   8.0500   NaN         S\n",
              "\n",
              "[5 rows x 12 columns]"
            ]
          },
          "metadata": {
            "tags": []
          },
          "execution_count": 109
        }
      ]
    },
    {
      "cell_type": "markdown",
      "metadata": {
        "id": "rpFmMRBKAQTQ",
        "colab_type": "text"
      },
      "source": [
        "## Cleaning"
      ]
    },
    {
      "cell_type": "code",
      "metadata": {
        "id": "87ra1CRc_uKv",
        "colab_type": "code",
        "outputId": "9befe352-13ee-44b5-d7b9-9f78937e8862",
        "colab": {
          "base_uri": "https://localhost:8080/",
          "height": 247
        }
      },
      "source": [
        "#this process involves a series of activities that will make my dataset fit for analysis\n",
        "\n",
        "#checking the null values in the dataset\n",
        "df.isnull().sum()"
      ],
      "execution_count": 110,
      "outputs": [
        {
          "output_type": "execute_result",
          "data": {
            "text/plain": [
              "PassengerId      0\n",
              "Survived         0\n",
              "Pclass           0\n",
              "Name             0\n",
              "Sex              0\n",
              "Age            177\n",
              "SibSp            0\n",
              "Parch            0\n",
              "Ticket           0\n",
              "Fare             0\n",
              "Cabin          687\n",
              "Embarked         2\n",
              "dtype: int64"
            ]
          },
          "metadata": {
            "tags": []
          },
          "execution_count": 110
        }
      ]
    },
    {
      "cell_type": "code",
      "metadata": {
        "id": "m4NNmwi5A_cN",
        "colab_type": "code",
        "outputId": "a21d7c9b-3ab5-4c55-ddbc-efec1c592135",
        "colab": {
          "base_uri": "https://localhost:8080/",
          "height": 34
        }
      },
      "source": [
        "df.shape"
      ],
      "execution_count": 111,
      "outputs": [
        {
          "output_type": "execute_result",
          "data": {
            "text/plain": [
              "(891, 12)"
            ]
          },
          "metadata": {
            "tags": []
          },
          "execution_count": 111
        }
      ]
    },
    {
      "cell_type": "code",
      "metadata": {
        "id": "G7FuAXksBHcn",
        "colab_type": "code",
        "outputId": "84c5e311-dce8-4428-c09a-b9d678f9807e",
        "colab": {
          "base_uri": "https://localhost:8080/",
          "height": 336
        }
      },
      "source": [
        "#the cabin column seems to have the most missing values.\n",
        "#lets call the unique values to get a deeper understanding of the column\n",
        "df.Cabin.unique()"
      ],
      "execution_count": 112,
      "outputs": [
        {
          "output_type": "execute_result",
          "data": {
            "text/plain": [
              "array([nan, 'C85', 'C123', 'E46', 'G6', 'C103', 'D56', 'A6',\n",
              "       'C23 C25 C27', 'B78', 'D33', 'B30', 'C52', 'B28', 'C83', 'F33',\n",
              "       'F G73', 'E31', 'A5', 'D10 D12', 'D26', 'C110', 'B58 B60', 'E101',\n",
              "       'F E69', 'D47', 'B86', 'F2', 'C2', 'E33', 'B19', 'A7', 'C49', 'F4',\n",
              "       'A32', 'B4', 'B80', 'A31', 'D36', 'D15', 'C93', 'C78', 'D35',\n",
              "       'C87', 'B77', 'E67', 'B94', 'C125', 'C99', 'C118', 'D7', 'A19',\n",
              "       'B49', 'D', 'C22 C26', 'C106', 'C65', 'E36', 'C54',\n",
              "       'B57 B59 B63 B66', 'C7', 'E34', 'C32', 'B18', 'C124', 'C91', 'E40',\n",
              "       'T', 'C128', 'D37', 'B35', 'E50', 'C82', 'B96 B98', 'E10', 'E44',\n",
              "       'A34', 'C104', 'C111', 'C92', 'E38', 'D21', 'E12', 'E63', 'A14',\n",
              "       'B37', 'C30', 'D20', 'B79', 'E25', 'D46', 'B73', 'C95', 'B38',\n",
              "       'B39', 'B22', 'C86', 'C70', 'A16', 'C101', 'C68', 'A10', 'E68',\n",
              "       'B41', 'A20', 'D19', 'D50', 'D9', 'A23', 'B50', 'A26', 'D48',\n",
              "       'E58', 'C126', 'B71', 'B51 B53 B55', 'D49', 'B5', 'B20', 'F G63',\n",
              "       'C62 C64', 'E24', 'C90', 'C45', 'E8', 'B101', 'D45', 'C46', 'D30',\n",
              "       'E121', 'D11', 'E77', 'F38', 'B3', 'D6', 'B82 B84', 'D17', 'A36',\n",
              "       'B102', 'B69', 'E49', 'C47', 'D28', 'E17', 'A24', 'C50', 'B42',\n",
              "       'C148'], dtype=object)"
            ]
          },
          "metadata": {
            "tags": []
          },
          "execution_count": 112
        }
      ]
    },
    {
      "cell_type": "code",
      "metadata": {
        "id": "CxNrLtrKBbRv",
        "colab_type": "code",
        "outputId": "1009a5fa-c4eb-439d-b12d-31e8aaddd078",
        "colab": {
          "base_uri": "https://localhost:8080/",
          "height": 34
        }
      },
      "source": [
        "#the cabin column is a representation of where the passengers slept which may have affected their survival or not.\n",
        "#hence we will retain the cumn and make a few adjustments.\n",
        "df['Class'] = df['Cabin'].str.slice(0,1)\n",
        "df.Class.unique()"
      ],
      "execution_count": 113,
      "outputs": [
        {
          "output_type": "execute_result",
          "data": {
            "text/plain": [
              "array([nan, 'C', 'E', 'G', 'D', 'A', 'B', 'F', 'T'], dtype=object)"
            ]
          },
          "metadata": {
            "tags": []
          },
          "execution_count": 113
        }
      ]
    },
    {
      "cell_type": "code",
      "metadata": {
        "id": "PLoRRacYD3yq",
        "colab_type": "code",
        "colab": {}
      },
      "source": [
        "#dropping the Cabin column since it has been replaced with the Class column I just Created.\n",
        "df.drop('Cabin', axis = 1, inplace = True)"
      ],
      "execution_count": 0,
      "outputs": []
    },
    {
      "cell_type": "code",
      "metadata": {
        "id": "q5HBS9TMEaRx",
        "colab_type": "code",
        "colab": {}
      },
      "source": [
        "#remember that there were missing values in the Class column hence I will classify those as another set of class element and assign the letter N as their class.\n",
        "df['Class'] = df['Class'].fillna('N')"
      ],
      "execution_count": 0,
      "outputs": []
    },
    {
      "cell_type": "code",
      "metadata": {
        "id": "zeM-GW-cE6mn",
        "colab_type": "code",
        "outputId": "1eeffb9a-cc93-4627-ade9-8c9f6a87c2e2",
        "colab": {
          "base_uri": "https://localhost:8080/",
          "height": 34
        }
      },
      "source": [
        "#confirming the unique values in our new Class column.\n",
        "df.Class.unique()"
      ],
      "execution_count": 116,
      "outputs": [
        {
          "output_type": "execute_result",
          "data": {
            "text/plain": [
              "array(['N', 'C', 'E', 'G', 'D', 'A', 'B', 'F', 'T'], dtype=object)"
            ]
          },
          "metadata": {
            "tags": []
          },
          "execution_count": 116
        }
      ]
    },
    {
      "cell_type": "code",
      "metadata": {
        "colab_type": "code",
        "id": "KDCNIfFSzGRq",
        "colab": {}
      },
      "source": [
        "df['Age'] = df['Age'].fillna(df['Age'].mean(),)"
      ],
      "execution_count": 0,
      "outputs": []
    },
    {
      "cell_type": "code",
      "metadata": {
        "id": "lZDS9UiJIlpj",
        "colab_type": "code",
        "outputId": "a889b386-0cdf-4406-86f4-000636d4ebc5",
        "colab": {
          "base_uri": "https://localhost:8080/",
          "height": 247
        }
      },
      "source": [
        "#confirming the number of null values\n",
        "df.isnull().sum()"
      ],
      "execution_count": 118,
      "outputs": [
        {
          "output_type": "execute_result",
          "data": {
            "text/plain": [
              "PassengerId    0\n",
              "Survived       0\n",
              "Pclass         0\n",
              "Name           0\n",
              "Sex            0\n",
              "Age            0\n",
              "SibSp          0\n",
              "Parch          0\n",
              "Ticket         0\n",
              "Fare           0\n",
              "Embarked       2\n",
              "Class          0\n",
              "dtype: int64"
            ]
          },
          "metadata": {
            "tags": []
          },
          "execution_count": 118
        }
      ]
    },
    {
      "cell_type": "code",
      "metadata": {
        "id": "922gOYFOzqAS",
        "colab_type": "code",
        "colab": {}
      },
      "source": [
        "#dealing with embarked column missing values\n",
        "\n",
        "df['Embarked'] = df['Embarked'].fillna('N')"
      ],
      "execution_count": 0,
      "outputs": []
    },
    {
      "cell_type": "code",
      "metadata": {
        "id": "NQuZYz2IJdTm",
        "colab_type": "code",
        "outputId": "c9c7c169-206f-4cbf-d60a-332c3f29deea",
        "colab": {
          "base_uri": "https://localhost:8080/",
          "height": 34
        }
      },
      "source": [
        "df.Embarked.unique()"
      ],
      "execution_count": 120,
      "outputs": [
        {
          "output_type": "execute_result",
          "data": {
            "text/plain": [
              "array(['S', 'C', 'Q', 'N'], dtype=object)"
            ]
          },
          "metadata": {
            "tags": []
          },
          "execution_count": 120
        }
      ]
    },
    {
      "cell_type": "code",
      "metadata": {
        "id": "xl-B9Qvr4ovc",
        "colab_type": "code",
        "outputId": "b38eccf0-dec8-4309-89a3-d93be6d44b8a",
        "colab": {
          "base_uri": "https://localhost:8080/",
          "height": 247
        }
      },
      "source": [
        "df.isnull().sum()"
      ],
      "execution_count": 121,
      "outputs": [
        {
          "output_type": "execute_result",
          "data": {
            "text/plain": [
              "PassengerId    0\n",
              "Survived       0\n",
              "Pclass         0\n",
              "Name           0\n",
              "Sex            0\n",
              "Age            0\n",
              "SibSp          0\n",
              "Parch          0\n",
              "Ticket         0\n",
              "Fare           0\n",
              "Embarked       0\n",
              "Class          0\n",
              "dtype: int64"
            ]
          },
          "metadata": {
            "tags": []
          },
          "execution_count": 121
        }
      ]
    },
    {
      "cell_type": "markdown",
      "metadata": {
        "id": "T79iLKb30LoJ",
        "colab_type": "text"
      },
      "source": [
        "***As for the Cabin column and Embarked column missing values, I replaced with N to symbolise the missing values.***\n"
      ]
    },
    {
      "cell_type": "markdown",
      "metadata": {
        "id": "LAswMfEz0ZBK",
        "colab_type": "text"
      },
      "source": [
        "##Exploratory Data Analysis"
      ]
    },
    {
      "cell_type": "code",
      "metadata": {
        "id": "LCbW8sURzSoV",
        "colab_type": "code",
        "outputId": "b5548810-27fe-4da1-a607-1fc0714b4ee4",
        "colab": {
          "base_uri": "https://localhost:8080/",
          "height": 34
        }
      },
      "source": [
        "#Statistical overview of our dataset\n",
        "\n",
        "df.PassengerId.value_counts().sum()"
      ],
      "execution_count": 122,
      "outputs": [
        {
          "output_type": "execute_result",
          "data": {
            "text/plain": [
              "891"
            ]
          },
          "metadata": {
            "tags": []
          },
          "execution_count": 122
        }
      ]
    },
    {
      "cell_type": "markdown",
      "metadata": {
        "id": "ATMi5q0E5Jh8",
        "colab_type": "text"
      },
      "source": [
        "***We will be analysing 891 passenger information in this dataset***"
      ]
    },
    {
      "cell_type": "code",
      "metadata": {
        "id": "FZV85eLA6SGM",
        "colab_type": "code",
        "outputId": "6699cf14-ca53-4d1a-ed46-202355c0d24b",
        "colab": {
          "base_uri": "https://localhost:8080/",
          "height": 34
        }
      },
      "source": [
        "df.Survived.unique()"
      ],
      "execution_count": 123,
      "outputs": [
        {
          "output_type": "execute_result",
          "data": {
            "text/plain": [
              "array([0, 1])"
            ]
          },
          "metadata": {
            "tags": []
          },
          "execution_count": 123
        }
      ]
    },
    {
      "cell_type": "code",
      "metadata": {
        "id": "pAeDm20G4Cem",
        "colab_type": "code",
        "outputId": "3017c4db-c301-47c1-ed57-8b6cf8792460",
        "colab": {
          "base_uri": "https://localhost:8080/",
          "height": 34
        }
      },
      "source": [
        "#looking at the number of people who survived\n",
        "survived = (df['Survived'] == 1).sum()\n",
        "survived\n",
        "\n"
      ],
      "execution_count": 124,
      "outputs": [
        {
          "output_type": "execute_result",
          "data": {
            "text/plain": [
              "342"
            ]
          },
          "metadata": {
            "tags": []
          },
          "execution_count": 124
        }
      ]
    },
    {
      "cell_type": "markdown",
      "metadata": {
        "id": "nyYH9TGD7BZm",
        "colab_type": "text"
      },
      "source": [
        "***among the 891 passengers in the titanic who were there, only 342 survived.***"
      ]
    },
    {
      "cell_type": "code",
      "metadata": {
        "id": "5IC8uBRW6cJs",
        "colab_type": "code",
        "outputId": "1f8f1406-f482-46d8-e437-2121a0249d04",
        "colab": {
          "base_uri": "https://localhost:8080/",
          "height": 257
        }
      },
      "source": [
        "passclass = df.groupby(['Pclass','Survived'])\n",
        "passclass.count()"
      ],
      "execution_count": 125,
      "outputs": [
        {
          "output_type": "execute_result",
          "data": {
            "text/html": [
              "<div>\n",
              "<style scoped>\n",
              "    .dataframe tbody tr th:only-of-type {\n",
              "        vertical-align: middle;\n",
              "    }\n",
              "\n",
              "    .dataframe tbody tr th {\n",
              "        vertical-align: top;\n",
              "    }\n",
              "\n",
              "    .dataframe thead th {\n",
              "        text-align: right;\n",
              "    }\n",
              "</style>\n",
              "<table border=\"1\" class=\"dataframe\">\n",
              "  <thead>\n",
              "    <tr style=\"text-align: right;\">\n",
              "      <th></th>\n",
              "      <th></th>\n",
              "      <th>PassengerId</th>\n",
              "      <th>Name</th>\n",
              "      <th>Sex</th>\n",
              "      <th>Age</th>\n",
              "      <th>SibSp</th>\n",
              "      <th>Parch</th>\n",
              "      <th>Ticket</th>\n",
              "      <th>Fare</th>\n",
              "      <th>Embarked</th>\n",
              "      <th>Class</th>\n",
              "    </tr>\n",
              "    <tr>\n",
              "      <th>Pclass</th>\n",
              "      <th>Survived</th>\n",
              "      <th></th>\n",
              "      <th></th>\n",
              "      <th></th>\n",
              "      <th></th>\n",
              "      <th></th>\n",
              "      <th></th>\n",
              "      <th></th>\n",
              "      <th></th>\n",
              "      <th></th>\n",
              "      <th></th>\n",
              "    </tr>\n",
              "  </thead>\n",
              "  <tbody>\n",
              "    <tr>\n",
              "      <th rowspan=\"2\" valign=\"top\">1</th>\n",
              "      <th>0</th>\n",
              "      <td>80</td>\n",
              "      <td>80</td>\n",
              "      <td>80</td>\n",
              "      <td>80</td>\n",
              "      <td>80</td>\n",
              "      <td>80</td>\n",
              "      <td>80</td>\n",
              "      <td>80</td>\n",
              "      <td>80</td>\n",
              "      <td>80</td>\n",
              "    </tr>\n",
              "    <tr>\n",
              "      <th>1</th>\n",
              "      <td>136</td>\n",
              "      <td>136</td>\n",
              "      <td>136</td>\n",
              "      <td>136</td>\n",
              "      <td>136</td>\n",
              "      <td>136</td>\n",
              "      <td>136</td>\n",
              "      <td>136</td>\n",
              "      <td>136</td>\n",
              "      <td>136</td>\n",
              "    </tr>\n",
              "    <tr>\n",
              "      <th rowspan=\"2\" valign=\"top\">2</th>\n",
              "      <th>0</th>\n",
              "      <td>97</td>\n",
              "      <td>97</td>\n",
              "      <td>97</td>\n",
              "      <td>97</td>\n",
              "      <td>97</td>\n",
              "      <td>97</td>\n",
              "      <td>97</td>\n",
              "      <td>97</td>\n",
              "      <td>97</td>\n",
              "      <td>97</td>\n",
              "    </tr>\n",
              "    <tr>\n",
              "      <th>1</th>\n",
              "      <td>87</td>\n",
              "      <td>87</td>\n",
              "      <td>87</td>\n",
              "      <td>87</td>\n",
              "      <td>87</td>\n",
              "      <td>87</td>\n",
              "      <td>87</td>\n",
              "      <td>87</td>\n",
              "      <td>87</td>\n",
              "      <td>87</td>\n",
              "    </tr>\n",
              "    <tr>\n",
              "      <th rowspan=\"2\" valign=\"top\">3</th>\n",
              "      <th>0</th>\n",
              "      <td>372</td>\n",
              "      <td>372</td>\n",
              "      <td>372</td>\n",
              "      <td>372</td>\n",
              "      <td>372</td>\n",
              "      <td>372</td>\n",
              "      <td>372</td>\n",
              "      <td>372</td>\n",
              "      <td>372</td>\n",
              "      <td>372</td>\n",
              "    </tr>\n",
              "    <tr>\n",
              "      <th>1</th>\n",
              "      <td>119</td>\n",
              "      <td>119</td>\n",
              "      <td>119</td>\n",
              "      <td>119</td>\n",
              "      <td>119</td>\n",
              "      <td>119</td>\n",
              "      <td>119</td>\n",
              "      <td>119</td>\n",
              "      <td>119</td>\n",
              "      <td>119</td>\n",
              "    </tr>\n",
              "  </tbody>\n",
              "</table>\n",
              "</div>"
            ],
            "text/plain": [
              "                 PassengerId  Name  Sex  Age  ...  Ticket  Fare  Embarked  Class\n",
              "Pclass Survived                               ...                               \n",
              "1      0                  80    80   80   80  ...      80    80        80     80\n",
              "       1                 136   136  136  136  ...     136   136       136    136\n",
              "2      0                  97    97   97   97  ...      97    97        97     97\n",
              "       1                  87    87   87   87  ...      87    87        87     87\n",
              "3      0                 372   372  372  372  ...     372   372       372    372\n",
              "       1                 119   119  119  119  ...     119   119       119    119\n",
              "\n",
              "[6 rows x 10 columns]"
            ]
          },
          "metadata": {
            "tags": []
          },
          "execution_count": 125
        }
      ]
    },
    {
      "cell_type": "code",
      "metadata": {
        "id": "GU6STywpxtmO",
        "colab_type": "code",
        "outputId": "5075a962-04e0-4664-a399-cdcb7466feda",
        "colab": {
          "base_uri": "https://localhost:8080/",
          "height": 931
        }
      },
      "source": [
        "#importing the library we will use\n",
        "import seaborn as sns\n",
        "\n",
        "\n",
        "ax = plt.subplots(figsize = (15,15))\n",
        "\n",
        "sns.countplot(y = 'Survived', hue = 'Pclass', data = df)\n",
        "\n",
        "plt.title('Passenger class of the survived and non survivors')\n",
        "\n",
        "plt.tight_layout"
      ],
      "execution_count": 126,
      "outputs": [
        {
          "output_type": "execute_result",
          "data": {
            "text/plain": [
              "<function matplotlib.pyplot.tight_layout>"
            ]
          },
          "metadata": {
            "tags": []
          },
          "execution_count": 126
        },
        {
          "output_type": "display_data",
          "data": {
            "image/png": "[encoded data removed]",
            "text/plain": [
              "<Figure size 1080x1080 with 1 Axes>"
            ]
          },
          "metadata": {
            "tags": []
          }
        }
      ]
    },
    {
      "cell_type": "markdown",
      "metadata": {
        "id": "G5F4Rv3k9WHb",
        "colab_type": "text"
      },
      "source": [
        "***The number of people who survived are represented by the number 1 whereas those who did not survive are represented by the number 0.***\n",
        "\n",
        "***The ones who survived in 1st class are 136 as compared to the ones who die...80.***\n",
        "\n",
        "***In 2nd class, the ones who survived are less than the ones who died.***\n",
        "\n",
        "***In 3rd class the ones who died are more than those who did survive.***\n",
        "\n",
        "***this could mean a couple of things:***\n",
        "\n",
        "**that the 1st class passengers were given a first priority**\n",
        "\n",
        "**that their rooms were close to the life boats used to save the passengers.**\n",
        "\n",
        "**that the 2nd and the 3rd class passengers did not have lifeboats near their room areas.**"
      ]
    },
    {
      "cell_type": "code",
      "metadata": {
        "id": "BTb0D-oVIwZ0",
        "colab_type": "code",
        "outputId": "62f371c4-bbba-46c4-c5dd-b98e06615b5f",
        "colab": {
          "base_uri": "https://localhost:8080/",
          "height": 34
        }
      },
      "source": [
        "df.Sex.unique()"
      ],
      "execution_count": 127,
      "outputs": [
        {
          "output_type": "execute_result",
          "data": {
            "text/plain": [
              "array(['male', 'female'], dtype=object)"
            ]
          },
          "metadata": {
            "tags": []
          },
          "execution_count": 127
        }
      ]
    },
    {
      "cell_type": "code",
      "metadata": {
        "id": "g8VoPwHb7k0L",
        "colab_type": "code",
        "outputId": "918aba1f-ce28-4aaa-a752-8327a764e360",
        "colab": {
          "base_uri": "https://localhost:8080/",
          "height": 247
        }
      },
      "source": [
        "female = df[df['Sex'] == 'female']\n",
        "female.count()"
      ],
      "execution_count": 128,
      "outputs": [
        {
          "output_type": "execute_result",
          "data": {
            "text/plain": [
              "PassengerId    314\n",
              "Survived       314\n",
              "Pclass         314\n",
              "Name           314\n",
              "Sex            314\n",
              "Age            314\n",
              "SibSp          314\n",
              "Parch          314\n",
              "Ticket         314\n",
              "Fare           314\n",
              "Embarked       314\n",
              "Class          314\n",
              "dtype: int64"
            ]
          },
          "metadata": {
            "tags": []
          },
          "execution_count": 128
        }
      ]
    },
    {
      "cell_type": "code",
      "metadata": {
        "id": "pdRuIlLbCW4F",
        "colab_type": "code",
        "outputId": "28a1b182-6168-4704-cc0e-528d7c0a191c",
        "colab": {
          "base_uri": "https://localhost:8080/",
          "height": 247
        }
      },
      "source": [
        "male = df[df['Sex'] == 'male']\n",
        "male.count()"
      ],
      "execution_count": 129,
      "outputs": [
        {
          "output_type": "execute_result",
          "data": {
            "text/plain": [
              "PassengerId    577\n",
              "Survived       577\n",
              "Pclass         577\n",
              "Name           577\n",
              "Sex            577\n",
              "Age            577\n",
              "SibSp          577\n",
              "Parch          577\n",
              "Ticket         577\n",
              "Fare           577\n",
              "Embarked       577\n",
              "Class          577\n",
              "dtype: int64"
            ]
          },
          "metadata": {
            "tags": []
          },
          "execution_count": 129
        }
      ]
    },
    {
      "cell_type": "code",
      "metadata": {
        "id": "vVHlHQhjpbWa",
        "colab_type": "code",
        "outputId": "df4b3d63-ef72-449d-c039-bfd8bc79adfc",
        "colab": {
          "base_uri": "https://localhost:8080/",
          "height": 931
        }
      },
      "source": [
        "#importing the library we will use\n",
        "import seaborn as sns\n",
        "\n",
        "\n",
        "ax = plt.subplots(figsize = (15,15))\n",
        "\n",
        "sns.countplot(y = 'Survived', hue = 'Sex', data = df)\n",
        "\n",
        "plt.title('Sex of the survived and non survivors')\n",
        "\n",
        "plt.tight_layout"
      ],
      "execution_count": 130,
      "outputs": [
        {
          "output_type": "execute_result",
          "data": {
            "text/plain": [
              "<function matplotlib.pyplot.tight_layout>"
            ]
          },
          "metadata": {
            "tags": []
          },
          "execution_count": 130
        },
        {
          "output_type": "display_data",
          "data": {
            "image/png": "[encoded data removed]",
            "text/plain": [
              "<Figure size 1080x1080 with 1 Axes>"
            ]
          },
          "metadata": {
            "tags": []
          }
        }
      ]
    },
    {
      "cell_type": "markdown",
      "metadata": {
        "id": "gxIXN8OEzmzv",
        "colab_type": "text"
      },
      "source": [
        "***This shows that the number of female who survived are more than the number of male.***\n",
        "***we can conclude that female were given the first priotity when boarding the life boats***"
      ]
    },
    {
      "cell_type": "code",
      "metadata": {
        "id": "of27vMQGwxVj",
        "colab_type": "code",
        "outputId": "4f53541d-5bbb-473b-8cbe-00e686ec2d6a",
        "colab": {
          "base_uri": "https://localhost:8080/",
          "height": 70
        }
      },
      "source": [
        "#calling the columns again\n",
        "\n",
        "df.columns"
      ],
      "execution_count": 131,
      "outputs": [
        {
          "output_type": "execute_result",
          "data": {
            "text/plain": [
              "Index(['PassengerId', 'Survived', 'Pclass', 'Name', 'Sex', 'Age', 'SibSp',\n",
              "       'Parch', 'Ticket', 'Fare', 'Embarked', 'Class'],\n",
              "      dtype='object')"
            ]
          },
          "metadata": {
            "tags": []
          },
          "execution_count": 131
        }
      ]
    },
    {
      "cell_type": "code",
      "metadata": {
        "id": "xuLEt3P_yq-A",
        "colab_type": "code",
        "outputId": "7d239453-79ba-4144-b499-4b328a3a82e3",
        "colab": {
          "base_uri": "https://localhost:8080/",
          "height": 638
        }
      },
      "source": [
        "#importing the library we will use\n",
        "import seaborn as sns\n",
        "\n",
        "\n",
        "ax = plt.subplots(figsize = (10,10))\n",
        "\n",
        "sns.countplot(x = 'Survived', hue = 'Parch', data = df)\n",
        "\n",
        "plt.title('passenger who were parents : survived and non survivors')\n",
        "\n",
        "plt.tight_layout"
      ],
      "execution_count": 132,
      "outputs": [
        {
          "output_type": "execute_result",
          "data": {
            "text/plain": [
              "<function matplotlib.pyplot.tight_layout>"
            ]
          },
          "metadata": {
            "tags": []
          },
          "execution_count": 132
        },
        {
          "output_type": "display_data",
          "data": {
            "image/png": "[encoded data removed]",
            "text/plain": [
              "<Figure size 720x720 with 1 Axes>"
            ]
          },
          "metadata": {
            "tags": []
          }
        }
      ]
    },
    {
      "cell_type": "markdown",
      "metadata": {
        "id": "tLy3Ekav1m38",
        "colab_type": "text"
      },
      "source": [
        "***this shows that the more kids an individual has then the chances of survival increased.***"
      ]
    },
    {
      "cell_type": "code",
      "metadata": {
        "id": "l35SWhIa0xw3",
        "colab_type": "code",
        "outputId": "4d4e8c4a-b5e0-415c-a4a4-f4b86c9dbc66",
        "colab": {
          "base_uri": "https://localhost:8080/",
          "height": 638
        }
      },
      "source": [
        "#importing the library we will use\n",
        "import seaborn as sns\n",
        "\n",
        "\n",
        "ax = plt.subplots(figsize = (10,10))\n",
        "\n",
        "sns.countplot(x = 'Survived', hue = 'SibSp', data = df)\n",
        "\n",
        "plt.title('passenger who has siblings : survived and non survivors')\n",
        "\n",
        "plt.tight_layout"
      ],
      "execution_count": 133,
      "outputs": [
        {
          "output_type": "execute_result",
          "data": {
            "text/plain": [
              "<function matplotlib.pyplot.tight_layout>"
            ]
          },
          "metadata": {
            "tags": []
          },
          "execution_count": 133
        },
        {
          "output_type": "display_data",
          "data": {
            "image/png": "[encoded data removed]",
            "text/plain": [
              "<Figure size 720x720 with 1 Axes>"
            ]
          },
          "metadata": {
            "tags": []
          }
        }
      ]
    },
    {
      "cell_type": "markdown",
      "metadata": {
        "id": "WW4pdKCG2KUs",
        "colab_type": "text"
      },
      "source": [
        "***This shows that the more the number of siblings an individual had, then the chances of survival increased.***"
      ]
    },
    {
      "cell_type": "code",
      "metadata": {
        "id": "65zCqxA12CW9",
        "colab_type": "code",
        "outputId": "9ca72f9e-9e97-44e4-91c9-25d9bfcfa580",
        "colab": {
          "base_uri": "https://localhost:8080/",
          "height": 638
        }
      },
      "source": [
        "#importing the library we will use\n",
        "import seaborn as sns\n",
        "\n",
        "\n",
        "ax = plt.subplots(figsize = (10,10))\n",
        "\n",
        "sns.countplot(x = 'Survived', hue = 'Embarked', data = df)\n",
        "\n",
        "plt.title('location passengers emarked on and how it affected survival and death')\n",
        "\n",
        "plt.tight_layout"
      ],
      "execution_count": 134,
      "outputs": [
        {
          "output_type": "execute_result",
          "data": {
            "text/plain": [
              "<function matplotlib.pyplot.tight_layout>"
            ]
          },
          "metadata": {
            "tags": []
          },
          "execution_count": 134
        },
        {
          "output_type": "display_data",
          "data": {
            "image/png": "[encoded data removed]",
            "text/plain": [
              "<Figure size 720x720 with 1 Axes>"
            ]
          },
          "metadata": {
            "tags": []
          }
        }
      ]
    },
    {
      "cell_type": "markdown",
      "metadata": {
        "id": "S7x3dvt-34Kb",
        "colab_type": "text"
      },
      "source": [
        "***C - Cherbourg, S - Southampton, Q = Queenstown, N = not known***\n",
        "\n",
        "***In order of arrival, the passengers boarded Titanic in Sothampton,Cherbourg then Queenstown.***\n",
        "\n",
        "***This means that the first people who boarded the titanic died the most as compared to the rest.***\n",
        "\n",
        "***The location passengers embarked greatly affected their survival rate.***"
      ]
    },
    {
      "cell_type": "code",
      "metadata": {
        "id": "hBsH8zdJ3Mx1",
        "colab_type": "code",
        "outputId": "7c943345-b887-4f79-f6f8-23f77d68b7c4",
        "colab": {
          "base_uri": "https://localhost:8080/",
          "height": 638
        }
      },
      "source": [
        "#importing the library we will use\n",
        "import seaborn as sns\n",
        "\n",
        "\n",
        "ax = plt.subplots(figsize = (10,10))\n",
        "\n",
        "sns.countplot(x = 'Survived', hue = 'Class', data = df)\n",
        "\n",
        "plt.title('the cabin passengers were on and how it affected survival and death')\n",
        "\n",
        "plt.tight_layout"
      ],
      "execution_count": 135,
      "outputs": [
        {
          "output_type": "execute_result",
          "data": {
            "text/plain": [
              "<function matplotlib.pyplot.tight_layout>"
            ]
          },
          "metadata": {
            "tags": []
          },
          "execution_count": 135
        },
        {
          "output_type": "display_data",
          "data": {
            "image/png": "[encoded data removed]",
            "text/plain": [
              "<Figure size 720x720 with 1 Axes>"
            ]
          },
          "metadata": {
            "tags": []
          }
        }
      ]
    },
    {
      "cell_type": "markdown",
      "metadata": {
        "id": "oZ3lXL-v6PEq",
        "colab_type": "text"
      },
      "source": [
        "***The number of people who were not assigned cabin numbers were the most, but we'll concentrate on the ones who were.***\n",
        "\n",
        "***the cabin members in c died the most as compared to the rest.But as you compare the number of survivors of cabin c, and their corresponding deceased, the people who survived are more than the people who died.***\n",
        "\n",
        "***this column does not show clarity because of the number of'not known' that are in the column.But we will go ahead and still use it.***"
      ]
    },
    {
      "cell_type": "markdown",
      "metadata": {
        "id": "x7sJ6KdF_BEn",
        "colab_type": "text"
      },
      "source": [
        "## Modelling"
      ]
    },
    {
      "cell_type": "markdown",
      "metadata": {
        "id": "MgQ2-NofBUWa",
        "colab_type": "text"
      },
      "source": [
        "***We'll be using KNN as well as Naive Bayes classification Models***"
      ]
    },
    {
      "cell_type": "markdown",
      "metadata": {
        "id": "8rgmGVb8Cf0W",
        "colab_type": "text"
      },
      "source": [
        "**KNN classifier**"
      ]
    },
    {
      "cell_type": "code",
      "metadata": {
        "id": "zElT_ZmZMqYA",
        "colab_type": "code",
        "outputId": "2cc739c3-c119-4649-c81d-226f04f29bba",
        "colab": {
          "base_uri": "https://localhost:8080/",
          "height": 247
        }
      },
      "source": [
        "#first off we will label encode the categorical data.\n",
        "df.dtypes"
      ],
      "execution_count": 136,
      "outputs": [
        {
          "output_type": "execute_result",
          "data": {
            "text/plain": [
              "PassengerId      int64\n",
              "Survived         int64\n",
              "Pclass           int64\n",
              "Name            object\n",
              "Sex             object\n",
              "Age            float64\n",
              "SibSp            int64\n",
              "Parch            int64\n",
              "Ticket          object\n",
              "Fare           float64\n",
              "Embarked        object\n",
              "Class           object\n",
              "dtype: object"
            ]
          },
          "metadata": {
            "tags": []
          },
          "execution_count": 136
        }
      ]
    },
    {
      "cell_type": "code",
      "metadata": {
        "id": "nScJ5TSYaIhY",
        "colab_type": "code",
        "outputId": "5be4e528-9f53-4067-db32-d2cebd3dfb52",
        "colab": {
          "base_uri": "https://localhost:8080/",
          "height": 197
        }
      },
      "source": [
        "#dropping the unnecessary columns in the dataset\n",
        "df = df.drop(['Name','Ticket'],axis = 1)\n",
        "df.head()"
      ],
      "execution_count": 137,
      "outputs": [
        {
          "output_type": "execute_result",
          "data": {
            "text/html": [
              "<div>\n",
              "<style scoped>\n",
              "    .dataframe tbody tr th:only-of-type {\n",
              "        vertical-align: middle;\n",
              "    }\n",
              "\n",
              "    .dataframe tbody tr th {\n",
              "        vertical-align: top;\n",
              "    }\n",
              "\n",
              "    .dataframe thead th {\n",
              "        text-align: right;\n",
              "    }\n",
              "</style>\n",
              "<table border=\"1\" class=\"dataframe\">\n",
              "  <thead>\n",
              "    <tr style=\"text-align: right;\">\n",
              "      <th></th>\n",
              "      <th>PassengerId</th>\n",
              "      <th>Survived</th>\n",
              "      <th>Pclass</th>\n",
              "      <th>Sex</th>\n",
              "      <th>Age</th>\n",
              "      <th>SibSp</th>\n",
              "      <th>Parch</th>\n",
              "      <th>Fare</th>\n",
              "      <th>Embarked</th>\n",
              "      <th>Class</th>\n",
              "    </tr>\n",
              "  </thead>\n",
              "  <tbody>\n",
              "    <tr>\n",
              "      <th>0</th>\n",
              "      <td>1</td>\n",
              "      <td>0</td>\n",
              "      <td>3</td>\n",
              "      <td>male</td>\n",
              "      <td>22.0</td>\n",
              "      <td>1</td>\n",
              "      <td>0</td>\n",
              "      <td>7.2500</td>\n",
              "      <td>S</td>\n",
              "      <td>N</td>\n",
              "    </tr>\n",
              "    <tr>\n",
              "      <th>1</th>\n",
              "      <td>2</td>\n",
              "      <td>1</td>\n",
              "      <td>1</td>\n",
              "      <td>female</td>\n",
              "      <td>38.0</td>\n",
              "      <td>1</td>\n",
              "      <td>0</td>\n",
              "      <td>71.2833</td>\n",
              "      <td>C</td>\n",
              "      <td>C</td>\n",
              "    </tr>\n",
              "    <tr>\n",
              "      <th>2</th>\n",
              "      <td>3</td>\n",
              "      <td>1</td>\n",
              "      <td>3</td>\n",
              "      <td>female</td>\n",
              "      <td>26.0</td>\n",
              "      <td>0</td>\n",
              "      <td>0</td>\n",
              "      <td>7.9250</td>\n",
              "      <td>S</td>\n",
              "      <td>N</td>\n",
              "    </tr>\n",
              "    <tr>\n",
              "      <th>3</th>\n",
              "      <td>4</td>\n",
              "      <td>1</td>\n",
              "      <td>1</td>\n",
              "      <td>female</td>\n",
              "      <td>35.0</td>\n",
              "      <td>1</td>\n",
              "      <td>0</td>\n",
              "      <td>53.1000</td>\n",
              "      <td>S</td>\n",
              "      <td>C</td>\n",
              "    </tr>\n",
              "    <tr>\n",
              "      <th>4</th>\n",
              "      <td>5</td>\n",
              "      <td>0</td>\n",
              "      <td>3</td>\n",
              "      <td>male</td>\n",
              "      <td>35.0</td>\n",
              "      <td>0</td>\n",
              "      <td>0</td>\n",
              "      <td>8.0500</td>\n",
              "      <td>S</td>\n",
              "      <td>N</td>\n",
              "    </tr>\n",
              "  </tbody>\n",
              "</table>\n",
              "</div>"
            ],
            "text/plain": [
              "   PassengerId  Survived  Pclass     Sex  ...  Parch     Fare  Embarked  Class\n",
              "0            1         0       3    male  ...      0   7.2500         S      N\n",
              "1            2         1       1  female  ...      0  71.2833         C      C\n",
              "2            3         1       3  female  ...      0   7.9250         S      N\n",
              "3            4         1       1  female  ...      0  53.1000         S      C\n",
              "4            5         0       3    male  ...      0   8.0500         S      N\n",
              "\n",
              "[5 rows x 10 columns]"
            ]
          },
          "metadata": {
            "tags": []
          },
          "execution_count": 137
        }
      ]
    },
    {
      "cell_type": "code",
      "metadata": {
        "id": "2qeXOMBZZ_yu",
        "colab_type": "code",
        "colab": {}
      },
      "source": [
        ""
      ],
      "execution_count": 0,
      "outputs": []
    },
    {
      "cell_type": "code",
      "metadata": {
        "id": "usVGVGtYQFJa",
        "colab_type": "code",
        "colab": {
          "base_uri": "https://localhost:8080/",
          "height": 217
        },
        "outputId": "b734228e-6ab6-40cc-e68a-328b5e21b401"
      },
      "source": [
        "#defining the columns I need\n",
        "s = ['Sex','Embarked','Class']\n",
        "\n",
        "#changing the columns defined from categrorical to numerical\n",
        "dummy = pd.get_dummies(df[s])\n",
        "dummy.head()\n",
        "\n",
        "#joing the dummied variables with the original dataset\n",
        "df = pd.concat([df, dummy],axis = 1)\n",
        "df.head()"
      ],
      "execution_count": 138,
      "outputs": [
        {
          "output_type": "execute_result",
          "data": {
            "text/html": [
              "<div>\n",
              "<style scoped>\n",
              "    .dataframe tbody tr th:only-of-type {\n",
              "        vertical-align: middle;\n",
              "    }\n",
              "\n",
              "    .dataframe tbody tr th {\n",
              "        vertical-align: top;\n",
              "    }\n",
              "\n",
              "    .dataframe thead th {\n",
              "        text-align: right;\n",
              "    }\n",
              "</style>\n",
              "<table border=\"1\" class=\"dataframe\">\n",
              "  <thead>\n",
              "    <tr style=\"text-align: right;\">\n",
              "      <th></th>\n",
              "      <th>PassengerId</th>\n",
              "      <th>Survived</th>\n",
              "      <th>Pclass</th>\n",
              "      <th>Sex</th>\n",
              "      <th>Age</th>\n",
              "      <th>SibSp</th>\n",
              "      <th>Parch</th>\n",
              "      <th>Fare</th>\n",
              "      <th>Embarked</th>\n",
              "      <th>Class</th>\n",
              "      <th>Sex_female</th>\n",
              "      <th>Sex_male</th>\n",
              "      <th>Embarked_C</th>\n",
              "      <th>Embarked_N</th>\n",
              "      <th>Embarked_Q</th>\n",
              "      <th>Embarked_S</th>\n",
              "      <th>Class_A</th>\n",
              "      <th>Class_B</th>\n",
              "      <th>Class_C</th>\n",
              "      <th>Class_D</th>\n",
              "      <th>Class_E</th>\n",
              "      <th>Class_F</th>\n",
              "      <th>Class_G</th>\n",
              "      <th>Class_N</th>\n",
              "      <th>Class_T</th>\n",
              "    </tr>\n",
              "  </thead>\n",
              "  <tbody>\n",
              "    <tr>\n",
              "      <th>0</th>\n",
              "      <td>1</td>\n",
              "      <td>0</td>\n",
              "      <td>3</td>\n",
              "      <td>male</td>\n",
              "      <td>22.0</td>\n",
              "      <td>1</td>\n",
              "      <td>0</td>\n",
              "      <td>7.2500</td>\n",
              "      <td>S</td>\n",
              "      <td>N</td>\n",
              "      <td>0</td>\n",
              "      <td>1</td>\n",
              "      <td>0</td>\n",
              "      <td>0</td>\n",
              "      <td>0</td>\n",
              "      <td>1</td>\n",
              "      <td>0</td>\n",
              "      <td>0</td>\n",
              "      <td>0</td>\n",
              "      <td>0</td>\n",
              "      <td>0</td>\n",
              "      <td>0</td>\n",
              "      <td>0</td>\n",
              "      <td>1</td>\n",
              "      <td>0</td>\n",
              "    </tr>\n",
              "    <tr>\n",
              "      <th>1</th>\n",
              "      <td>2</td>\n",
              "      <td>1</td>\n",
              "      <td>1</td>\n",
              "      <td>female</td>\n",
              "      <td>38.0</td>\n",
              "      <td>1</td>\n",
              "      <td>0</td>\n",
              "      <td>71.2833</td>\n",
              "      <td>C</td>\n",
              "      <td>C</td>\n",
              "      <td>1</td>\n",
              "      <td>0</td>\n",
              "      <td>1</td>\n",
              "      <td>0</td>\n",
              "      <td>0</td>\n",
              "      <td>0</td>\n",
              "      <td>0</td>\n",
              "      <td>0</td>\n",
              "      <td>1</td>\n",
              "      <td>0</td>\n",
              "      <td>0</td>\n",
              "      <td>0</td>\n",
              "      <td>0</td>\n",
              "      <td>0</td>\n",
              "      <td>0</td>\n",
              "    </tr>\n",
              "    <tr>\n",
              "      <th>2</th>\n",
              "      <td>3</td>\n",
              "      <td>1</td>\n",
              "      <td>3</td>\n",
              "      <td>female</td>\n",
              "      <td>26.0</td>\n",
              "      <td>0</td>\n",
              "      <td>0</td>\n",
              "      <td>7.9250</td>\n",
              "      <td>S</td>\n",
              "      <td>N</td>\n",
              "      <td>1</td>\n",
              "      <td>0</td>\n",
              "      <td>0</td>\n",
              "      <td>0</td>\n",
              "      <td>0</td>\n",
              "      <td>1</td>\n",
              "      <td>0</td>\n",
              "      <td>0</td>\n",
              "      <td>0</td>\n",
              "      <td>0</td>\n",
              "      <td>0</td>\n",
              "      <td>0</td>\n",
              "      <td>0</td>\n",
              "      <td>1</td>\n",
              "      <td>0</td>\n",
              "    </tr>\n",
              "    <tr>\n",
              "      <th>3</th>\n",
              "      <td>4</td>\n",
              "      <td>1</td>\n",
              "      <td>1</td>\n",
              "      <td>female</td>\n",
              "      <td>35.0</td>\n",
              "      <td>1</td>\n",
              "      <td>0</td>\n",
              "      <td>53.1000</td>\n",
              "      <td>S</td>\n",
              "      <td>C</td>\n",
              "      <td>1</td>\n",
              "      <td>0</td>\n",
              "      <td>0</td>\n",
              "      <td>0</td>\n",
              "      <td>0</td>\n",
              "      <td>1</td>\n",
              "      <td>0</td>\n",
              "      <td>0</td>\n",
              "      <td>1</td>\n",
              "      <td>0</td>\n",
              "      <td>0</td>\n",
              "      <td>0</td>\n",
              "      <td>0</td>\n",
              "      <td>0</td>\n",
              "      <td>0</td>\n",
              "    </tr>\n",
              "    <tr>\n",
              "      <th>4</th>\n",
              "      <td>5</td>\n",
              "      <td>0</td>\n",
              "      <td>3</td>\n",
              "      <td>male</td>\n",
              "      <td>35.0</td>\n",
              "      <td>0</td>\n",
              "      <td>0</td>\n",
              "      <td>8.0500</td>\n",
              "      <td>S</td>\n",
              "      <td>N</td>\n",
              "      <td>0</td>\n",
              "      <td>1</td>\n",
              "      <td>0</td>\n",
              "      <td>0</td>\n",
              "      <td>0</td>\n",
              "      <td>1</td>\n",
              "      <td>0</td>\n",
              "      <td>0</td>\n",
              "      <td>0</td>\n",
              "      <td>0</td>\n",
              "      <td>0</td>\n",
              "      <td>0</td>\n",
              "      <td>0</td>\n",
              "      <td>1</td>\n",
              "      <td>0</td>\n",
              "    </tr>\n",
              "  </tbody>\n",
              "</table>\n",
              "</div>"
            ],
            "text/plain": [
              "   PassengerId  Survived  Pclass     Sex  ...  Class_F  Class_G  Class_N  Class_T\n",
              "0            1         0       3    male  ...        0        0        1        0\n",
              "1            2         1       1  female  ...        0        0        0        0\n",
              "2            3         1       3  female  ...        0        0        1        0\n",
              "3            4         1       1  female  ...        0        0        0        0\n",
              "4            5         0       3    male  ...        0        0        1        0\n",
              "\n",
              "[5 rows x 25 columns]"
            ]
          },
          "metadata": {
            "tags": []
          },
          "execution_count": 138
        }
      ]
    },
    {
      "cell_type": "code",
      "metadata": {
        "id": "Vos9xacOdv_9",
        "colab_type": "code",
        "colab": {
          "base_uri": "https://localhost:8080/",
          "height": 217
        },
        "outputId": "9e06a91d-4daa-4fb8-dd51-8f03f8fed98e"
      },
      "source": [
        "#deleting the previous columns that were not numerical\n",
        "df = df.drop(['Sex', 'Embarked','Class'],axis = 1)\n",
        "df.head()"
      ],
      "execution_count": 139,
      "outputs": [
        {
          "output_type": "execute_result",
          "data": {
            "text/html": [
              "<div>\n",
              "<style scoped>\n",
              "    .dataframe tbody tr th:only-of-type {\n",
              "        vertical-align: middle;\n",
              "    }\n",
              "\n",
              "    .dataframe tbody tr th {\n",
              "        vertical-align: top;\n",
              "    }\n",
              "\n",
              "    .dataframe thead th {\n",
              "        text-align: right;\n",
              "    }\n",
              "</style>\n",
              "<table border=\"1\" class=\"dataframe\">\n",
              "  <thead>\n",
              "    <tr style=\"text-align: right;\">\n",
              "      <th></th>\n",
              "      <th>PassengerId</th>\n",
              "      <th>Survived</th>\n",
              "      <th>Pclass</th>\n",
              "      <th>Age</th>\n",
              "      <th>SibSp</th>\n",
              "      <th>Parch</th>\n",
              "      <th>Fare</th>\n",
              "      <th>Sex_female</th>\n",
              "      <th>Sex_male</th>\n",
              "      <th>Embarked_C</th>\n",
              "      <th>Embarked_N</th>\n",
              "      <th>Embarked_Q</th>\n",
              "      <th>Embarked_S</th>\n",
              "      <th>Class_A</th>\n",
              "      <th>Class_B</th>\n",
              "      <th>Class_C</th>\n",
              "      <th>Class_D</th>\n",
              "      <th>Class_E</th>\n",
              "      <th>Class_F</th>\n",
              "      <th>Class_G</th>\n",
              "      <th>Class_N</th>\n",
              "      <th>Class_T</th>\n",
              "    </tr>\n",
              "  </thead>\n",
              "  <tbody>\n",
              "    <tr>\n",
              "      <th>0</th>\n",
              "      <td>1</td>\n",
              "      <td>0</td>\n",
              "      <td>3</td>\n",
              "      <td>22.0</td>\n",
              "      <td>1</td>\n",
              "      <td>0</td>\n",
              "      <td>7.2500</td>\n",
              "      <td>0</td>\n",
              "      <td>1</td>\n",
              "      <td>0</td>\n",
              "      <td>0</td>\n",
              "      <td>0</td>\n",
              "      <td>1</td>\n",
              "      <td>0</td>\n",
              "      <td>0</td>\n",
              "      <td>0</td>\n",
              "      <td>0</td>\n",
              "      <td>0</td>\n",
              "      <td>0</td>\n",
              "      <td>0</td>\n",
              "      <td>1</td>\n",
              "      <td>0</td>\n",
              "    </tr>\n",
              "    <tr>\n",
              "      <th>1</th>\n",
              "      <td>2</td>\n",
              "      <td>1</td>\n",
              "      <td>1</td>\n",
              "      <td>38.0</td>\n",
              "      <td>1</td>\n",
              "      <td>0</td>\n",
              "      <td>71.2833</td>\n",
              "      <td>1</td>\n",
              "      <td>0</td>\n",
              "      <td>1</td>\n",
              "      <td>0</td>\n",
              "      <td>0</td>\n",
              "      <td>0</td>\n",
              "      <td>0</td>\n",
              "      <td>0</td>\n",
              "      <td>1</td>\n",
              "      <td>0</td>\n",
              "      <td>0</td>\n",
              "      <td>0</td>\n",
              "      <td>0</td>\n",
              "      <td>0</td>\n",
              "      <td>0</td>\n",
              "    </tr>\n",
              "    <tr>\n",
              "      <th>2</th>\n",
              "      <td>3</td>\n",
              "      <td>1</td>\n",
              "      <td>3</td>\n",
              "      <td>26.0</td>\n",
              "      <td>0</td>\n",
              "      <td>0</td>\n",
              "      <td>7.9250</td>\n",
              "      <td>1</td>\n",
              "      <td>0</td>\n",
              "      <td>0</td>\n",
              "      <td>0</td>\n",
              "      <td>0</td>\n",
              "      <td>1</td>\n",
              "      <td>0</td>\n",
              "      <td>0</td>\n",
              "      <td>0</td>\n",
              "      <td>0</td>\n",
              "      <td>0</td>\n",
              "      <td>0</td>\n",
              "      <td>0</td>\n",
              "      <td>1</td>\n",
              "      <td>0</td>\n",
              "    </tr>\n",
              "    <tr>\n",
              "      <th>3</th>\n",
              "      <td>4</td>\n",
              "      <td>1</td>\n",
              "      <td>1</td>\n",
              "      <td>35.0</td>\n",
              "      <td>1</td>\n",
              "      <td>0</td>\n",
              "      <td>53.1000</td>\n",
              "      <td>1</td>\n",
              "      <td>0</td>\n",
              "      <td>0</td>\n",
              "      <td>0</td>\n",
              "      <td>0</td>\n",
              "      <td>1</td>\n",
              "      <td>0</td>\n",
              "      <td>0</td>\n",
              "      <td>1</td>\n",
              "      <td>0</td>\n",
              "      <td>0</td>\n",
              "      <td>0</td>\n",
              "      <td>0</td>\n",
              "      <td>0</td>\n",
              "      <td>0</td>\n",
              "    </tr>\n",
              "    <tr>\n",
              "      <th>4</th>\n",
              "      <td>5</td>\n",
              "      <td>0</td>\n",
              "      <td>3</td>\n",
              "      <td>35.0</td>\n",
              "      <td>0</td>\n",
              "      <td>0</td>\n",
              "      <td>8.0500</td>\n",
              "      <td>0</td>\n",
              "      <td>1</td>\n",
              "      <td>0</td>\n",
              "      <td>0</td>\n",
              "      <td>0</td>\n",
              "      <td>1</td>\n",
              "      <td>0</td>\n",
              "      <td>0</td>\n",
              "      <td>0</td>\n",
              "      <td>0</td>\n",
              "      <td>0</td>\n",
              "      <td>0</td>\n",
              "      <td>0</td>\n",
              "      <td>1</td>\n",
              "      <td>0</td>\n",
              "    </tr>\n",
              "  </tbody>\n",
              "</table>\n",
              "</div>"
            ],
            "text/plain": [
              "   PassengerId  Survived  Pclass   Age  ...  Class_F  Class_G  Class_N  Class_T\n",
              "0            1         0       3  22.0  ...        0        0        1        0\n",
              "1            2         1       1  38.0  ...        0        0        0        0\n",
              "2            3         1       3  26.0  ...        0        0        1        0\n",
              "3            4         1       1  35.0  ...        0        0        0        0\n",
              "4            5         0       3  35.0  ...        0        0        1        0\n",
              "\n",
              "[5 rows x 22 columns]"
            ]
          },
          "metadata": {
            "tags": []
          },
          "execution_count": 139
        }
      ]
    },
    {
      "cell_type": "code",
      "metadata": {
        "id": "Lcbz4O-_eQ8W",
        "colab_type": "code",
        "colab": {}
      },
      "source": [
        "#we will then define our dependent variable x, and our independent variables y.\n",
        "\n",
        "x = df.drop('Survived', axis = 1)\n",
        "y = df[['Survived']]"
      ],
      "execution_count": 0,
      "outputs": []
    },
    {
      "cell_type": "code",
      "metadata": {
        "id": "gi1e-i_jbybK",
        "colab_type": "code",
        "outputId": "81926312-2c01-49ed-b9b8-236263cf2907",
        "colab": {
          "base_uri": "https://localhost:8080/",
          "height": 217
        }
      },
      "source": [
        "pd.DataFrame(x).head()"
      ],
      "execution_count": 141,
      "outputs": [
        {
          "output_type": "execute_result",
          "data": {
            "text/html": [
              "<div>\n",
              "<style scoped>\n",
              "    .dataframe tbody tr th:only-of-type {\n",
              "        vertical-align: middle;\n",
              "    }\n",
              "\n",
              "    .dataframe tbody tr th {\n",
              "        vertical-align: top;\n",
              "    }\n",
              "\n",
              "    .dataframe thead th {\n",
              "        text-align: right;\n",
              "    }\n",
              "</style>\n",
              "<table border=\"1\" class=\"dataframe\">\n",
              "  <thead>\n",
              "    <tr style=\"text-align: right;\">\n",
              "      <th></th>\n",
              "      <th>PassengerId</th>\n",
              "      <th>Pclass</th>\n",
              "      <th>Age</th>\n",
              "      <th>SibSp</th>\n",
              "      <th>Parch</th>\n",
              "      <th>Fare</th>\n",
              "      <th>Sex_female</th>\n",
              "      <th>Sex_male</th>\n",
              "      <th>Embarked_C</th>\n",
              "      <th>Embarked_N</th>\n",
              "      <th>Embarked_Q</th>\n",
              "      <th>Embarked_S</th>\n",
              "      <th>Class_A</th>\n",
              "      <th>Class_B</th>\n",
              "      <th>Class_C</th>\n",
              "      <th>Class_D</th>\n",
              "      <th>Class_E</th>\n",
              "      <th>Class_F</th>\n",
              "      <th>Class_G</th>\n",
              "      <th>Class_N</th>\n",
              "      <th>Class_T</th>\n",
              "    </tr>\n",
              "  </thead>\n",
              "  <tbody>\n",
              "    <tr>\n",
              "      <th>0</th>\n",
              "      <td>1</td>\n",
              "      <td>3</td>\n",
              "      <td>22.0</td>\n",
              "      <td>1</td>\n",
              "      <td>0</td>\n",
              "      <td>7.2500</td>\n",
              "      <td>0</td>\n",
              "      <td>1</td>\n",
              "      <td>0</td>\n",
              "      <td>0</td>\n",
              "      <td>0</td>\n",
              "      <td>1</td>\n",
              "      <td>0</td>\n",
              "      <td>0</td>\n",
              "      <td>0</td>\n",
              "      <td>0</td>\n",
              "      <td>0</td>\n",
              "      <td>0</td>\n",
              "      <td>0</td>\n",
              "      <td>1</td>\n",
              "      <td>0</td>\n",
              "    </tr>\n",
              "    <tr>\n",
              "      <th>1</th>\n",
              "      <td>2</td>\n",
              "      <td>1</td>\n",
              "      <td>38.0</td>\n",
              "      <td>1</td>\n",
              "      <td>0</td>\n",
              "      <td>71.2833</td>\n",
              "      <td>1</td>\n",
              "      <td>0</td>\n",
              "      <td>1</td>\n",
              "      <td>0</td>\n",
              "      <td>0</td>\n",
              "      <td>0</td>\n",
              "      <td>0</td>\n",
              "      <td>0</td>\n",
              "      <td>1</td>\n",
              "      <td>0</td>\n",
              "      <td>0</td>\n",
              "      <td>0</td>\n",
              "      <td>0</td>\n",
              "      <td>0</td>\n",
              "      <td>0</td>\n",
              "    </tr>\n",
              "    <tr>\n",
              "      <th>2</th>\n",
              "      <td>3</td>\n",
              "      <td>3</td>\n",
              "      <td>26.0</td>\n",
              "      <td>0</td>\n",
              "      <td>0</td>\n",
              "      <td>7.9250</td>\n",
              "      <td>1</td>\n",
              "      <td>0</td>\n",
              "      <td>0</td>\n",
              "      <td>0</td>\n",
              "      <td>0</td>\n",
              "      <td>1</td>\n",
              "      <td>0</td>\n",
              "      <td>0</td>\n",
              "      <td>0</td>\n",
              "      <td>0</td>\n",
              "      <td>0</td>\n",
              "      <td>0</td>\n",
              "      <td>0</td>\n",
              "      <td>1</td>\n",
              "      <td>0</td>\n",
              "    </tr>\n",
              "    <tr>\n",
              "      <th>3</th>\n",
              "      <td>4</td>\n",
              "      <td>1</td>\n",
              "      <td>35.0</td>\n",
              "      <td>1</td>\n",
              "      <td>0</td>\n",
              "      <td>53.1000</td>\n",
              "      <td>1</td>\n",
              "      <td>0</td>\n",
              "      <td>0</td>\n",
              "      <td>0</td>\n",
              "      <td>0</td>\n",
              "      <td>1</td>\n",
              "      <td>0</td>\n",
              "      <td>0</td>\n",
              "      <td>1</td>\n",
              "      <td>0</td>\n",
              "      <td>0</td>\n",
              "      <td>0</td>\n",
              "      <td>0</td>\n",
              "      <td>0</td>\n",
              "      <td>0</td>\n",
              "    </tr>\n",
              "    <tr>\n",
              "      <th>4</th>\n",
              "      <td>5</td>\n",
              "      <td>3</td>\n",
              "      <td>35.0</td>\n",
              "      <td>0</td>\n",
              "      <td>0</td>\n",
              "      <td>8.0500</td>\n",
              "      <td>0</td>\n",
              "      <td>1</td>\n",
              "      <td>0</td>\n",
              "      <td>0</td>\n",
              "      <td>0</td>\n",
              "      <td>1</td>\n",
              "      <td>0</td>\n",
              "      <td>0</td>\n",
              "      <td>0</td>\n",
              "      <td>0</td>\n",
              "      <td>0</td>\n",
              "      <td>0</td>\n",
              "      <td>0</td>\n",
              "      <td>1</td>\n",
              "      <td>0</td>\n",
              "    </tr>\n",
              "  </tbody>\n",
              "</table>\n",
              "</div>"
            ],
            "text/plain": [
              "   PassengerId  Pclass   Age  SibSp  ...  Class_F  Class_G  Class_N  Class_T\n",
              "0            1       3  22.0      1  ...        0        0        1        0\n",
              "1            2       1  38.0      1  ...        0        0        0        0\n",
              "2            3       3  26.0      0  ...        0        0        1        0\n",
              "3            4       1  35.0      1  ...        0        0        0        0\n",
              "4            5       3  35.0      0  ...        0        0        1        0\n",
              "\n",
              "[5 rows x 21 columns]"
            ]
          },
          "metadata": {
            "tags": []
          },
          "execution_count": 141
        }
      ]
    },
    {
      "cell_type": "code",
      "metadata": {
        "id": "Bt25cs7zECSI",
        "colab_type": "code",
        "colab": {}
      },
      "source": [
        "#to avoid overfitting, we divide the dataset into training and test set\n",
        "from sklearn.model_selection import train_test_split\n",
        "\n",
        "x_train, x_test, y_train, y_test = train_test_split(x,y,test_size = 0.15)"
      ],
      "execution_count": 0,
      "outputs": []
    },
    {
      "cell_type": "code",
      "metadata": {
        "id": "BT0_X0mqGpN4",
        "colab_type": "code",
        "colab": {
          "base_uri": "https://localhost:8080/",
          "height": 34
        },
        "outputId": "631042f7-507d-4f5d-9366-2103d2485613"
      },
      "source": [
        "#for KNN we have to standardize for all the features to be uniformly distributed.\n",
        "from sklearn.preprocessing import StandardScaler\n",
        "\n",
        "scaler = StandardScaler()\n",
        "\n",
        "scaler.fit(x_train)"
      ],
      "execution_count": 144,
      "outputs": [
        {
          "output_type": "execute_result",
          "data": {
            "text/plain": [
              "StandardScaler(copy=True, with_mean=True, with_std=True)"
            ]
          },
          "metadata": {
            "tags": []
          },
          "execution_count": 144
        }
      ]
    },
    {
      "cell_type": "code",
      "metadata": {
        "id": "kg_gdWYXHHZw",
        "colab_type": "code",
        "colab": {}
      },
      "source": [
        "#standardizing my x test and x train\n",
        "\n",
        "x_train = scaler.transform(x_train)\n",
        "\n",
        "x_test = scaler.transform(x_test)"
      ],
      "execution_count": 0,
      "outputs": []
    },
    {
      "cell_type": "code",
      "metadata": {
        "id": "vWgt-jCpLlmY",
        "colab_type": "code",
        "colab": {
          "base_uri": "https://localhost:8080/",
          "height": 125
        },
        "outputId": "25152df6-961f-477c-8cf0-f5f1eda38b4c"
      },
      "source": [
        "# importing the necessary libraries for our Knn model\n",
        "from sklearn.neighbors import KNeighborsClassifier\n",
        "\n",
        "#our n values below will be the number of k\n",
        "#the digit 5 is mostly used for the KNN algorithm hence we will input here as well.\n",
        "classifier = KNeighborsClassifier()\n",
        "\n",
        "classifier.fit(x_train, y_train)"
      ],
      "execution_count": 146,
      "outputs": [
        {
          "output_type": "stream",
          "text": [
            "/usr/local/lib/python3.6/dist-packages/ipykernel_launcher.py:7: DataConversionWarning: A column-vector y was passed when a 1d array was expected. Please change the shape of y to (n_samples, ), for example using ravel().\n",
            "  import sys\n"
          ],
          "name": "stderr"
        },
        {
          "output_type": "execute_result",
          "data": {
            "text/plain": [
              "KNeighborsClassifier(algorithm='auto', leaf_size=30, metric='minkowski',\n",
              "                     metric_params=None, n_jobs=None, n_neighbors=5, p=2,\n",
              "                     weights='uniform')"
            ]
          },
          "metadata": {
            "tags": []
          },
          "execution_count": 146
        }
      ]
    },
    {
      "cell_type": "code",
      "metadata": {
        "id": "Y5ziQ-SxMWXG",
        "colab_type": "code",
        "colab": {}
      },
      "source": [
        "#making the prediction\n",
        "y_pred = classifier.predict(x_test)\n"
      ],
      "execution_count": 0,
      "outputs": []
    },
    {
      "cell_type": "code",
      "metadata": {
        "id": "sSq8BtG4YTwp",
        "colab_type": "code",
        "colab": {
          "base_uri": "https://localhost:8080/",
          "height": 52
        },
        "outputId": "dbab1b22-5716-4533-cde0-233e31a447f2"
      },
      "source": [
        "#evaluation using the confusion matrix\n",
        "from sklearn.metrics import confusion_matrix\n",
        "print(confusion_matrix(y_test,y_pred))"
      ],
      "execution_count": 148,
      "outputs": [
        {
          "output_type": "stream",
          "text": [
            "[[68  9]\n",
            " [19 38]]\n"
          ],
          "name": "stdout"
        }
      ]
    },
    {
      "cell_type": "code",
      "metadata": {
        "id": "vU8xVkkgYtc_",
        "colab_type": "code",
        "colab": {
          "base_uri": "https://localhost:8080/",
          "height": 176
        },
        "outputId": "cc2d31b8-f3c1-4b4b-f3fe-aa10f8925770"
      },
      "source": [
        "#evaluation using classification matrix\n",
        "from sklearn.metrics import classification_report\n",
        "\n",
        "print(classification_report(y_pred, y_pred))"
      ],
      "execution_count": 150,
      "outputs": [
        {
          "output_type": "stream",
          "text": [
            "              precision    recall  f1-score   support\n",
            "\n",
            "           0       1.00      1.00      1.00        87\n",
            "           1       1.00      1.00      1.00        47\n",
            "\n",
            "    accuracy                           1.00       134\n",
            "   macro avg       1.00      1.00      1.00       134\n",
            "weighted avg       1.00      1.00      1.00       134\n",
            "\n"
          ],
          "name": "stdout"
        }
      ]
    },
    {
      "cell_type": "markdown",
      "metadata": {
        "id": "XephAjS1iGxd",
        "colab_type": "text"
      },
      "source": [
        "**Logistic Regression**"
      ]
    },
    {
      "cell_type": "code",
      "metadata": {
        "id": "K4SHM93Ih9Me",
        "colab_type": "code",
        "colab": {
          "base_uri": "https://localhost:8080/",
          "height": 267
        },
        "outputId": "1815aace-e0fe-45c0-ee3d-aa7861b1ac85"
      },
      "source": [
        "#I used logistic because we are dealing with binary data as well\n",
        "\n",
        "#importing the necessary libraries\n",
        "\n",
        "from sklearn.linear_model import LogisticRegression\n",
        "\n",
        "#defining the model\n",
        "log = LogisticRegression()\n",
        "\n",
        "#fitting the model into our training set\n",
        "log.fit(x_train, y_train)\n",
        "\n",
        "#prediction using the model\n",
        "y_pred = log.predict(x_test)\n",
        "\n",
        "print(classification_report(y_test,y_pred))"
      ],
      "execution_count": 152,
      "outputs": [
        {
          "output_type": "stream",
          "text": [
            "              precision    recall  f1-score   support\n",
            "\n",
            "           0       0.78      0.79      0.79        77\n",
            "           1       0.71      0.70      0.71        57\n",
            "\n",
            "    accuracy                           0.75       134\n",
            "   macro avg       0.75      0.75      0.75       134\n",
            "weighted avg       0.75      0.75      0.75       134\n",
            "\n"
          ],
          "name": "stdout"
        },
        {
          "output_type": "stream",
          "text": [
            "/usr/local/lib/python3.6/dist-packages/sklearn/linear_model/logistic.py:432: FutureWarning: Default solver will be changed to 'lbfgs' in 0.22. Specify a solver to silence this warning.\n",
            "  FutureWarning)\n",
            "/usr/local/lib/python3.6/dist-packages/sklearn/utils/validation.py:724: DataConversionWarning: A column-vector y was passed when a 1d array was expected. Please change the shape of y to (n_samples, ), for example using ravel().\n",
            "  y = column_or_1d(y, warn=True)\n"
          ],
          "name": "stderr"
        }
      ]
    },
    {
      "cell_type": "markdown",
      "metadata": {
        "id": "OvpoQZwyZPAe",
        "colab_type": "text"
      },
      "source": [
        "**Naive Bayes**"
      ]
    },
    {
      "cell_type": "markdown",
      "metadata": {
        "id": "pIkWeW9PZldz",
        "colab_type": "text"
      },
      "source": [
        "Compute the accuracy (percentage of correct classification).\n",
        "\n",
        "Report the confusion matrix of each classifier.\n",
        "\n",
        "Repeat step 2 to step 4 twice, each time splitting the datasets differently i.e. 70-30, 60-40, then note the outcomes of your modeling.\n",
        "\n",
        "Suggest and apply at least one of the optimization techniques that you learned earlier this week.\n",
        "\n",
        "Provide further recommendations to improve both classifiers. "
      ]
    },
    {
      "cell_type": "code",
      "metadata": {
        "id": "a0cJLu82ZW2n",
        "colab_type": "code",
        "colab": {
          "base_uri": "https://localhost:8080/",
          "height": 425
        },
        "outputId": "f87c59d1-b9b5-4f8a-dfd0-2f0000fdf704"
      },
      "source": [
        "df.var()"
      ],
      "execution_count": 151,
      "outputs": [
        {
          "output_type": "execute_result",
          "data": {
            "text/plain": [
              "PassengerId    66231.000000\n",
              "Survived           0.236772\n",
              "Pclass             0.699015\n",
              "Age              169.052400\n",
              "SibSp              1.216043\n",
              "Parch              0.649728\n",
              "Fare            2469.436846\n",
              "Sex_female         0.228475\n",
              "Sex_male           0.228475\n",
              "Embarked_C         0.153172\n",
              "Embarked_N         0.002242\n",
              "Embarked_Q         0.079040\n",
              "Embarked_S         0.200593\n",
              "Class_A            0.016570\n",
              "Class_B            0.050023\n",
              "Class_C            0.061902\n",
              "Class_D            0.035705\n",
              "Class_E            0.034664\n",
              "Class_F            0.014394\n",
              "Class_G            0.004474\n",
              "Class_N            0.176734\n",
              "Class_T            0.001122\n",
              "dtype: float64"
            ]
          },
          "metadata": {
            "tags": []
          },
          "execution_count": 151
        }
      ]
    },
    {
      "cell_type": "code",
      "metadata": {
        "id": "hAXahZlnbRq1",
        "colab_type": "code",
        "colab": {}
      },
      "source": [
        "#importing the different types of Naive Byes models\n",
        "from sklearn.naive_bayes import GaussianNB,MultinomialNB, BernoulliNB\n",
        "\n",
        "#defining the three models of naive bayes that we are going to use.\n",
        "gau = GaussianNB()\n",
        "bern = BernoulliNB()\n",
        "\n"
      ],
      "execution_count": 0,
      "outputs": []
    },
    {
      "cell_type": "code",
      "metadata": {
        "id": "5_9oATo2mpTc",
        "colab_type": "code",
        "colab": {
          "base_uri": "https://localhost:8080/",
          "height": 34
        },
        "outputId": "be730307-03ee-4111-9ca6-3ef4d021812f"
      },
      "source": [
        "#from sklearn.preprocessing import MinMaxScaler\n",
        "#scaler = MinMaxScaler()\n",
        "#scaler.fit(x)"
      ],
      "execution_count": 167,
      "outputs": [
        {
          "output_type": "execute_result",
          "data": {
            "text/plain": [
              "MinMaxScaler(copy=True, feature_range=(0, 1))"
            ]
          },
          "metadata": {
            "tags": []
          },
          "execution_count": 167
        }
      ]
    },
    {
      "cell_type": "code",
      "metadata": {
        "id": "FAHKRtpbmsiD",
        "colab_type": "code",
        "colab": {}
      },
      "source": [
        "#dividing our dataset into training and test set\n",
        "\n",
        "from sklearn.model_selection import train_test_split\n",
        "x_train, x_test, y_train, y_test = train_test_split(x,y,test_size = 0.2)"
      ],
      "execution_count": 0,
      "outputs": []
    },
    {
      "cell_type": "code",
      "metadata": {
        "id": "PJtC9f4jmC4X",
        "colab_type": "code",
        "colab": {
          "base_uri": "https://localhost:8080/",
          "height": 125
        },
        "outputId": "1b9b25ed-a650-48a2-e32a-4aecd552d0fe"
      },
      "source": [
        "#training using the models above\n",
        "gau.fit(x_train, y_train)\n",
        "#multi.fit(x_train, y_train)\n",
        "bern.fit(x_train, y_train)"
      ],
      "execution_count": 174,
      "outputs": [
        {
          "output_type": "stream",
          "text": [
            "/usr/local/lib/python3.6/dist-packages/sklearn/utils/validation.py:724: DataConversionWarning: A column-vector y was passed when a 1d array was expected. Please change the shape of y to (n_samples, ), for example using ravel().\n",
            "  y = column_or_1d(y, warn=True)\n",
            "/usr/local/lib/python3.6/dist-packages/sklearn/utils/validation.py:724: DataConversionWarning: A column-vector y was passed when a 1d array was expected. Please change the shape of y to (n_samples, ), for example using ravel().\n",
            "  y = column_or_1d(y, warn=True)\n"
          ],
          "name": "stderr"
        },
        {
          "output_type": "execute_result",
          "data": {
            "text/plain": [
              "BernoulliNB(alpha=1.0, binarize=0.0, class_prior=None, fit_prior=True)"
            ]
          },
          "metadata": {
            "tags": []
          },
          "execution_count": 174
        }
      ]
    },
    {
      "cell_type": "code",
      "metadata": {
        "id": "tuvfR2abmXXN",
        "colab_type": "code",
        "colab": {}
      },
      "source": [
        "#predicting the outcome\n",
        "y_pred1 = gau.predict(x_test)\n",
        "#y_pred2 = multi.predict(x_test)\n",
        "y_pred3 = bern.predict(x_test)"
      ],
      "execution_count": 0,
      "outputs": []
    },
    {
      "cell_type": "code",
      "metadata": {
        "id": "ywZ_QPPcpGzQ",
        "colab_type": "code",
        "colab": {
          "base_uri": "https://localhost:8080/",
          "height": 1000
        },
        "outputId": "5bb8bfe1-9129-4d97-ae8a-7b6b2496049a"
      },
      "source": [
        "#evaluating the model\n",
        "\n",
        "#importing the necessary libraries\n",
        "from sklearn import metrics\n",
        "\n",
        "#model accuracy\n",
        "print('Accuracy of Gaussian:', y_test,y_pred1)\n",
        "#print('Accuracy of Multinomial:', y_test,y_pred2)\n",
        "print('Accuracy of Bernoulli:', y_test,y_pred3)\n",
        "\n",
        "#classification report of each\n",
        "print('Classification report of Gaussian:', classification_report(y_test,y_pred1))\n",
        "#print('Classification report of Multinomial:', classification_report(y_test,y_pred2))\n",
        "print('Classification report of Bernoulli:', classification_report(y_test,y_pred3))"
      ],
      "execution_count": 176,
      "outputs": [
        {
          "output_type": "stream",
          "text": [
            "Accuracy of Gaussian:      Survived\n",
            "56          1\n",
            "660         1\n",
            "604         1\n",
            "533         1\n",
            "698         0\n",
            "728         0\n",
            "412         1\n",
            "708         1\n",
            "691         1\n",
            "494         0\n",
            "216         1\n",
            "502         0\n",
            "30          0\n",
            "382         0\n",
            "629         0\n",
            "19          1\n",
            "637         0\n",
            "547         1\n",
            "620         0\n",
            "734         0\n",
            "551         0\n",
            "14          0\n",
            "196         0\n",
            "155         0\n",
            "125         1\n",
            "445         1\n",
            "600         1\n",
            "28          1\n",
            "658         0\n",
            "437         1\n",
            "..        ...\n",
            "865         1\n",
            "344         0\n",
            "383         1\n",
            "297         0\n",
            "754         1\n",
            "424         0\n",
            "701         1\n",
            "830         1\n",
            "281         0\n",
            "79          1\n",
            "538         0\n",
            "575         0\n",
            "436         0\n",
            "509         1\n",
            "530         1\n",
            "490         0\n",
            "432         1\n",
            "627         1\n",
            "324         0\n",
            "62          0\n",
            "380         1\n",
            "9           1\n",
            "209         1\n",
            "676         0\n",
            "142         1\n",
            "874         1\n",
            "293         0\n",
            "201         0\n",
            "352         0\n",
            "228         0\n",
            "\n",
            "[179 rows x 1 columns] [0 0 0 1 1 0 1 1 1 0 0 0 0 0 0 1 0 0 0 0 0 0 0 0 0 0 0 0 0 0 0 0 0 0 1 0 0\n",
            " 0 1 1 0 0 1 1 0 0 1 1 1 0 1 0 0 0 1 0 0 0 0 1 0 0 0 0 0 0 0 0 0 0 0 0 0 0\n",
            " 0 0 0 0 0 1 1 0 0 0 1 0 1 0 0 0 0 0 1 1 0 1 1 0 0 0 0 0 0 0 0 0 1 0 1 0 0\n",
            " 1 0 0 0 0 0 0 0 0 0 0 0 0 1 1 0 0 1 0 0 0 0 0 0 1 0 1 0 0 0 1 0 0 0 1 0 0\n",
            " 0 0 0 1 1 0 0 1 1 0 0 0 0 0 0 0 0 0 1 0 1 1 1 0 0 0 1 0 0 0 0]\n",
            "Accuracy of Bernoulli:      Survived\n",
            "56          1\n",
            "660         1\n",
            "604         1\n",
            "533         1\n",
            "698         0\n",
            "728         0\n",
            "412         1\n",
            "708         1\n",
            "691         1\n",
            "494         0\n",
            "216         1\n",
            "502         0\n",
            "30          0\n",
            "382         0\n",
            "629         0\n",
            "19          1\n",
            "637         0\n",
            "547         1\n",
            "620         0\n",
            "734         0\n",
            "551         0\n",
            "14          0\n",
            "196         0\n",
            "155         0\n",
            "125         1\n",
            "445         1\n",
            "600         1\n",
            "28          1\n",
            "658         0\n",
            "437         1\n",
            "..        ...\n",
            "865         1\n",
            "344         0\n",
            "383         1\n",
            "297         0\n",
            "754         1\n",
            "424         0\n",
            "701         1\n",
            "830         1\n",
            "281         0\n",
            "79          1\n",
            "538         0\n",
            "575         0\n",
            "436         0\n",
            "509         1\n",
            "530         1\n",
            "490         0\n",
            "432         1\n",
            "627         1\n",
            "324         0\n",
            "62          0\n",
            "380         1\n",
            "9           1\n",
            "209         1\n",
            "676         0\n",
            "142         1\n",
            "874         1\n",
            "293         0\n",
            "201         0\n",
            "352         0\n",
            "228         0\n",
            "\n",
            "[179 rows x 1 columns] [1 0 0 1 1 0 1 1 1 0 0 1 0 0 0 1 0 0 0 0 0 0 0 1 0 1 1 1 0 1 1 1 0 0 1 0 0\n",
            " 0 0 0 0 0 1 1 0 0 0 1 1 1 1 0 0 1 0 0 0 0 1 1 1 0 1 0 0 0 0 0 0 0 1 0 0 1\n",
            " 1 0 0 0 0 1 1 0 0 1 1 1 1 0 0 0 0 0 1 1 0 1 0 0 0 0 0 0 0 0 0 1 1 1 0 0 1\n",
            " 0 0 0 0 0 0 0 0 0 0 0 1 0 1 1 1 0 1 1 0 1 0 1 0 1 0 0 0 0 0 1 0 0 0 1 0 0\n",
            " 0 1 0 1 1 1 0 0 1 0 1 0 0 1 0 1 0 1 1 0 1 1 1 0 0 1 1 0 0 0 0]\n",
            "Classification report of Gaussian:               precision    recall  f1-score   support\n",
            "\n",
            "           0       0.67      0.87      0.76       103\n",
            "           1       0.70      0.41      0.52        76\n",
            "\n",
            "    accuracy                           0.68       179\n",
            "   macro avg       0.69      0.64      0.64       179\n",
            "weighted avg       0.68      0.68      0.65       179\n",
            "\n",
            "Classification report of Bernoulli:               precision    recall  f1-score   support\n",
            "\n",
            "           0       0.77      0.83      0.80       103\n",
            "           1       0.74      0.67      0.70        76\n",
            "\n",
            "    accuracy                           0.76       179\n",
            "   macro avg       0.76      0.75      0.75       179\n",
            "weighted avg       0.76      0.76      0.76       179\n",
            "\n"
          ],
          "name": "stdout"
        }
      ]
    },
    {
      "cell_type": "code",
      "metadata": {
        "id": "D1S-4auSrqNS",
        "colab_type": "code",
        "colab": {}
      },
      "source": [
        ""
      ],
      "execution_count": 0,
      "outputs": []
    }
  ]
}